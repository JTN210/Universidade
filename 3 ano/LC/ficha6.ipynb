{
 "cells": [
  {
   "cell_type": "markdown",
   "metadata": {
    "id": "0smre93qHCuV"
   },
   "source": [
    "# Grafos de fluxos\n",
    "\n",
    "Na sua versão mais simples, um *grafo de fluxos* é um grafo orientado onde cada aresta modela uma \"conduta\" onde pode fluir \"alguma coisa\" (gás, água, trânsito automóvel, etc) sujeita a uma capacidade máxima. Mais em informação em https://en.wikipedia.org/wiki/Flow_network.\n",
    "\n",
    "Usando o `networkx` podemos modelar um grafo de fluxos usando um `DiGraph` (*directed graph*), usando atributos adicionais para representar a capacidade máxima de cada arco e o respectivo fluxo efectivo. Por exemplo, o seguinte código cria um grafo de fluxos com 6 nodos e 10 arcos."
   ]
  },
  {
   "cell_type": "code",
   "execution_count": null,
   "metadata": {
    "id": "o7t4o2BHHCuW"
   },
   "outputs": [],
   "source": [
    "import networkx as nx\n",
    "\n",
    "graph = nx.DiGraph()\n",
    "graph.add_edge(0,1,capacity=16)\n",
    "graph.add_edge(0,2,capacity=13)\n",
    "graph.add_edge(1,2,capacity=10)\n",
    "graph.add_edge(1,3,capacity=12)\n",
    "graph.add_edge(2,1,capacity=4)\n",
    "graph.add_edge(2,4,capacity=14)\n",
    "graph.add_edge(3,2,capacity=9)\n",
    "graph.add_edge(3,5,capacity=20)\n",
    "graph.add_edge(4,3,capacity=7)\n",
    "graph.add_edge(4,5,capacity=4)"
   ]
  },
  {
   "cell_type": "markdown",
   "metadata": {
    "id": "6IBK7ZmfHCuW"
   },
   "source": [
    "Podemos desenhar este grafo de fluxos usando a seguinte função que assume que o grafo é planar e que coloca como fluxo efectivo o caracter `?` caso este atributo não esteja definido."
   ]
  },
  {
   "cell_type": "code",
   "execution_count": null,
   "metadata": {
    "id": "qEU6Gv4qHCuX"
   },
   "outputs": [],
   "source": [
    "def draw_flow_network(graph):\n",
    "    pos = nx.planar_layout(graph)\n",
    "    labels = {}\n",
    "    for (o,d) in graph.edges():\n",
    "        if 'flow' in graph[o][d]:\n",
    "            labels[(o,d)] = str(graph[o][d]['flow']) + ' / ' + str(graph[o][d]['capacity'])\n",
    "        else:\n",
    "            labels[(o,d)] = '? / ' + str(graph[o][d]['capacity'])                        \n",
    "    nx.draw_networkx(graph,pos)\n",
    "    nx.draw_networkx_edge_labels(graph,pos,labels,label_pos=0.3)\n",
    "\n",
    "\n",
    "draw_flow_network(graph)"
   ]
  },
  {
   "cell_type": "markdown",
   "metadata": {
    "id": "RRpbLk8-HCuX"
   },
   "source": [
    "## Max-flow\n",
    "\n",
    "Um dos problemas clássicos com grafos de fluxos consiste em determinar qual o fluxo máximo que pode existir entre dois nodos concretos do grafo.\n",
    "\n",
    "Usando programação inteira mista (com variáveis inteiras e reais) podemos determinar este fluxo máximo da seguinte forma."
   ]
  },
  {
   "cell_type": "markdown",
   "metadata": {
    "id": "-a9AIr1Shnd4"
   },
   "source": [
    "### Análise do problema\n",
    "\n",
    "Dado um grafo orientado $(V,E)$, uma capacidade $C_e \\ge 0$ para cada arco $e \\in E$, um nodo $s$ correspondente à origem e um nodo $t$ correspondente ao destino, precisamos de uma variável $f_e$ do tipo real por cada arco $e \\in E$, que irá representar o fluxo efectivo nesse arco. Para encontrar o fluxo máximo entre $s$ e $t$ basta maximizar\n",
    "\n",
    "$$\n",
    "\\sum_{(s,v) \\in E} f_{(s,v)} - \\sum_{(v,s) \\in E} f_{(v,s)}\n",
    "$$\n",
    "\n",
    "ou seja, a soma do fluxos efectivos com origem em $s$ (alternativamente, poderia-se maximizar a soma dos fluxos efectivos com destino $t$), sujeito às seguintes restrições:\n",
    "- A capacidade de cada arco é respeitada\n",
    "- O fluxo que sai de cada nodo é igual ao que entra (exceptuando em $s$ e $t$)"
   ]
  },
  {
   "cell_type": "markdown",
   "metadata": {
    "id": "xcEy7DJZHCuX"
   },
   "source": [
    "### Exercício 1\n",
    "\n",
    "Formalize estas restrições."
   ]
  },
  {
   "cell_type": "markdown",
   "metadata": {
    "id": "KYS_IMN4HCuY"
   },
   "source": [
    "### Exercício 2\n",
    "\n",
    "Implemente a função `max_flow` que dado um grafo de fluxos, determina o fluxo máximo entre `s` e `t`, definindo também o atributo `flow` com o fluxo efectivo de cada arco necessário para atingir esse fluxo máximo. Em `networkx` pode usar o método `edges` para aceder aos arcos de um grafo, e os métodos `in_edges` e `out_edges` para aceder aos arcos de entrada e saída de um determinado vértice."
   ]
  },
  {
   "cell_type": "code",
   "execution_count": null,
   "metadata": {
    "id": "vE9U3hKuHCuY"
   },
   "outputs": [],
   "source": [
    "from ortools.linear_solver import pywraplp\n",
    "\n",
    "def max_flow(graph,s,t):\n",
    "    solver = pywraplp.Solver.CreateSolver('SCIP')\n",
    "\n",
    "    f = {}\n",
    "    for (u,v) in graph.edges():\n",
    "        cap = graph[u][v]['capacity']\n",
    "        f[(u,v)] = solver.NumVar(0,cap,f'f_{u}_{v}')\n",
    "    \n",
    " \n",
    "    # fluxo entrada = fluxo saida\n",
    "    \n",
    "    for node in graph.nodes():\n",
    "        if node in [s,t]:\n",
    "            continue\n",
    "        in_node = solver.Sum(f[(u,node)] for (u,node) in graph.in_edges(node))\n",
    "        out_node = solver.Sum(f[(node,v)]for (node,v) in graph.out_edges(node))\n",
    "        solver.Add(in_node == out_node)\n",
    "\n",
    "    out_s = solver.Sum(f[s,v] for (s,v) in graph.out_edges(s))\n",
    "    in_s = solver.Sum(f[u,s] for (u,s) in graph.in_edges(s))\n",
    "\n",
    "    solver.Maximize(out_s - in_s)\n",
    "\n",
    "    status = solver.Solve()\n",
    "\n",
    "    if status != pywraplp.Solver.OPTIMAL:\n",
    "        print(\"Não encontrou solução otima\")\n",
    "\n",
    "    for (u,v) in graph.edges():\n",
    "        graph[u][v]['flow'] = f[(u,v)].solution_value()\n",
    "    \n",
    "\n",
    "    return solver.Objective().Value()\n",
    "    \n",
    "assert max_flow(graph,0,5) == 23\n",
    "draw_flow_network(graph)"
   ]
  },
  {
   "cell_type": "markdown",
   "metadata": {
    "id": "D6qJDQFKHCuY"
   },
   "source": [
    "## Min-cut\n",
    "\n",
    "Um dos resultados fundamentais sobre grafos de fluxos, conforme https://en.wikipedia.org/wiki/Max-flow_min-cut_theorem, diz que o fluxo máximo entre dois vértices é igual à soma da capacidade dos arcos que estabelecem um *corte mínimo* entre esses vértices. Num grafo um *corte mínimo* é um conjunto de arcos que divide os nodos em dois conjuntos disjuntos satisfazendo algum critério de minimalidade. Neste caso estamos interessados em dividir o grafo em dois conjuntos $S$ e $T$ onde a origem $s \\in S$ e o destino $t \\in T$, minimizando a capacidade total dos arcos que pertecem ao corte, ou seja, a capacidade total dos arcos que ligam $S$ a $T$.\n",
    "\n",
    "### Análise do problema\n",
    "\n",
    "Dado um grafo orientado $(V,E)$, uma capacidade $C_e \\ge 0$ para cada arco $e \\in E$, um nodo $s$ correspondente à origem e um nodo $t$ correspondente ao destino, precisamos de uma variável binária $d_{(a,b)}$ por cada aresta $(a,b) \\in E$, que terá o valor 1 se a respectiva aresta pertencer ao corte entre $S$ e $T$ (ou seja, se $a \\in S$ e $b \\in T$), e de uma variável binária $x_v$ por cada vértice $v \\in V$, que terá o valor 1 se o respectivo vértice pertencer a $S$ (se o valor for 0 é porque $v \\in T$). Para encontrar o corte mínimo basta minimizar\n",
    "\n",
    "$$\n",
    "\\sum_{e \\in E} d_{e} \\cdot C_e\n",
    "$$\n",
    "\n",
    "sujeito às seguintes restrições:\n",
    "- O nodo $s$ pertence a $S$ e o nodo $t$ pertence a $T$\n",
    "- Uma aresta com origem em $S$ e destino em $T$ pertence ao corte"
   ]
  },
  {
   "cell_type": "markdown",
   "metadata": {
    "id": "B-Iq_rzGHCuZ"
   },
   "source": [
    "### Exercício 3\n",
    "\n",
    "Formalize estas restrições."
   ]
  },
  {
   "cell_type": "markdown",
   "metadata": {
    "id": "ZOQayPEcHCuZ"
   },
   "source": [
    "### Exercício 4\n",
    "\n",
    "Implemente a função `min_cut` que dado um grafo de fluxos determina o fluxo máximo entre `s` e `t`."
   ]
  },
  {
   "cell_type": "code",
   "execution_count": null,
   "metadata": {
    "id": "VA9NrrCUHCuZ"
   },
   "outputs": [],
   "source": [
    "def min_cut(graph,s,t):\n",
    "    solver = pywraplp.Solver.CreateSolver('SCIP')\n",
    "\n",
    "    x = {v : solver.BoolVar(f'x_{v}') for v in graph.nodes()}\n",
    "    \n",
    "    d = {}\n",
    "    \n",
    "    for (a,b) in graph.edges():\n",
    "        d[(a,b)] = solver.BoolVar(f'd_{a}_{b}')\n",
    "    \n",
    "    \n",
    "    solver.Add(x[s] == 1)\n",
    "    solver.Add(x[t] == 0)\n",
    "    for (a,b) in graph.edges():\n",
    "        solver.Add(d[a,b] >= x[a] - x[b])\n",
    "    \n",
    "    obj = solver.Sum(graph[a][b]['capacity'] * d[(a,b)] for (a,b) in graph.edges())\n",
    "    solver.Minimize(obj)\n",
    "    \n",
    "    status = solver.Solve()\n",
    "    if status != pywraplp.Solver.OPTIMAL:\n",
    "        print(\"Não encontrou solução otima\")\n",
    "\n",
    "    return solver.Objective().Value()\n",
    "    \n",
    "assert min_cut(graph,0,5) == 23"
   ]
  },
  {
   "cell_type": "markdown",
   "metadata": {
    "id": "miA5fOZCHCuZ"
   },
   "source": [
    "## Outros problemas de corte mínimo\n",
    "\n",
    "Outro problema relacionado com o corte mínimo consiste em determinar, para um grafo orientado e dois nodos $s$ e $t$ desse grafo, o número mínimo de arcos que é necessário retirar para que $t$ deixe de ser acessível a partir de $s$.\n",
    "\n",
    "Uma forma directa de resolver este problema consiste em começar por determinar todos os caminhos (sem ciclos) entre $s$ e $t$ e depois determinar o conjunto mínimo de arestas que intersecta todos esses caminhos."
   ]
  },
  {
   "cell_type": "markdown",
   "metadata": {
    "id": "Izmp2b4bHCua"
   },
   "source": [
    "### Exercício 5\n",
    "\n",
    "Formalize este problema usando programação inteira. Assuma que dado um grafo $(V,E)$ e os nodos $s$ e $t$, $P$ é o conjunto de todos os caminhos (sem ciclos) entre $s$ e $t$, onde cada caminho é representado pelo conjunto dos arcos que lhe pertencem."
   ]
  },
  {
   "cell_type": "markdown",
   "metadata": {
    "id": "AgeL1ytKHCua"
   },
   "source": [
    "### Exercício 6\n",
    "\n",
    "Implemente a função `disconnect_all_paths` que dado um grafo `graph` e os nodos `s` e `t` devolve a lista de arestas a remover para que `t` deixe de ser acessível a partir de `s`. Pode usar a função `all_simple_paths` do `networkx` para determinar todos os caminhos sem ciclos entre dois vértices."
   ]
  },
  {
   "cell_type": "code",
   "execution_count": null,
   "metadata": {
    "id": "2xpIdzVrHCua"
   },
   "outputs": [],
   "source": [
    "def disconnect_all_paths(graph,s,t):\n",
    "    solver = pywraplp.Solver.CreateSolver('SCIP')\n",
    "    \n",
    "    d = {}\n",
    "    for (a,b) in graph.edges():\n",
    "        d[(a,b)] = solver.BoolVar(f'd_{a}_{b}')\n",
    "        \n",
    "    all_paths = list(nx.all_simple_paths(graph,s,t))\n",
    "    for path in all_paths:\n",
    "        edges_in_path = list(zip(path[:-1],path[1:]))\n",
    "        solver.Add(solver.Sum(d[e] for e in edges_in_path) >= 1)\n",
    "    \n",
    "    obj = solver.Sum(graph[a][b]['capacity'] * d[(a,b)] for (a,b) in graph.edges())\n",
    "    solver.Minimize(obj)\n",
    "    \n",
    "    status = solver.Solve()\n",
    "    if status != pywraplp.Solver.OPTIMAL:\n",
    "        print(\"Não encontrou solução otima\")\n",
    "        \n",
    "    removed = [(a,b) for (a,b) in graph.edges() if d[(a,b)].solution_value() == 1]\n",
    "    \n",
    "    return removed    \n",
    "disconnect_all_paths(graph,0,5)"
   ]
  },
  {
   "cell_type": "markdown",
   "metadata": {
    "id": "emtXNPVxHCua"
   },
   "source": [
    "### Exercício 7\n",
    "\n",
    "Também é possível reduzir este problema ao problema do corte mínimo em grafos de fluxos assumindo simplesmente que a capacidade  dos arcos é 1.\n",
    "\n",
    "Implemente a função `disconnect_min_cut` que dado um grafo `graph` e os nodos `s` e `t` devolve a lista de arestas a remover para que `t` deixe de ser acessível a partir de `s` usando esta técnica."
   ]
  },
  {
   "cell_type": "code",
   "execution_count": null,
   "metadata": {
    "id": "3EHcShzsHCub"
   },
   "outputs": [],
   "source": [
    "def disconnect_min_cut(graph,s,t):\n",
    "    solver = pywraplp.Solver.CreateSolver('SCIP')\n",
    "\n",
    "    x = {v: solver.BoolVar(f'x_{v}') for v in graph.nodes()}\n",
    "\n",
    "    d = {(a,b): solver.BoolVar(f'd_{a}_{b}') for (a,b) in graph.edges()}\n",
    "\n",
    "    solver.Add(x[s] == 1)\n",
    "    solver.Add(x[t] == 0)\n",
    "    for (a,b) in graph.edges():\n",
    "        solver.Add(d[(a,b)] >= x[a] - x[b])\n",
    "    \n",
    "    obj = solver.Sum(d[(a,b)] for (a,b) in graph.edges())\n",
    "    \n",
    "    solver.Minimize(obj)\n",
    "    \n",
    "    \n",
    "    status = solver.Solve()\n",
    "    if status != pywraplp.Solver.OPTIMAL:\n",
    "        print(\"Não encontrou solução otima\")\n",
    "        \n",
    "    removed = [(a,b) for (a,b) in graph.edges() if d[(a,b)].solution_value() == 1]\n",
    "\n",
    "    return removed \n",
    "disconnect_min_cut(graph,0,5)"
   ]
  },
  {
   "cell_type": "code",
   "execution_count": null,
   "metadata": {},
   "outputs": [],
   "source": []
  }
 ],
 "metadata": {
  "colab": {
   "collapsed_sections": [],
   "name": "Aula5.ipynb",
   "provenance": [
    {
     "file_id": "1HQqsvKTzMrz5t0QXlCx4Tr2C9ii8EQyz",
     "timestamp": 1635870173584
    }
   ]
  },
  "kernelspec": {
   "display_name": "logica",
   "language": "python",
   "name": "python3"
  },
  "language_info": {
   "codemirror_mode": {
    "name": "ipython",
    "version": 3
   },
   "file_extension": ".py",
   "mimetype": "text/x-python",
   "name": "python",
   "nbconvert_exporter": "python",
   "pygments_lexer": "ipython3",
   "version": "3.12.11"
  }
 },
 "nbformat": 4,
 "nbformat_minor": 1
}
