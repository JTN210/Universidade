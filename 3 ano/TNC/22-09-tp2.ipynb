{
 "cells": [
  {
   "cell_type": "code",
   "execution_count": 1,
   "id": "27631392-ef94-419b-93c8-336fa69ae738",
   "metadata": {},
   "outputs": [
    {
     "data": {
      "text/plain": [
       "Ring of integers modulo 21"
      ]
     },
     "execution_count": 1,
     "metadata": {},
     "output_type": "execute_result"
    }
   ],
   "source": [
    "n = 21\n",
    "Zn = IntegerModRing(n)\n",
    "Zn"
   ]
  },
  {
   "cell_type": "code",
   "execution_count": 2,
   "id": "9d235f1c-69e8-4e7a-b98b-a7c80994d099",
   "metadata": {},
   "outputs": [
    {
     "data": {
      "text/plain": [
       "False"
      ]
     },
     "execution_count": 2,
     "metadata": {},
     "output_type": "execute_result"
    }
   ],
   "source": [
    "Zn.is_field()"
   ]
  },
  {
   "cell_type": "code",
   "execution_count": 4,
   "id": "0cc779d5-7b9a-470a-9735-97c512813b6e",
   "metadata": {},
   "outputs": [
    {
     "data": {
      "text/plain": [
       "False"
      ]
     },
     "execution_count": 4,
     "metadata": {},
     "output_type": "execute_result"
    }
   ],
   "source": [
    "gcd(18, 21) == 1"
   ]
  },
  {
   "cell_type": "code",
   "execution_count": 5,
   "id": "64b5135d-344c-41fd-af26-1cb00e67a934",
   "metadata": {},
   "outputs": [
    {
     "data": {
      "text/plain": [
       "8"
      ]
     },
     "execution_count": 5,
     "metadata": {},
     "output_type": "execute_result"
    }
   ],
   "source": [
    "1/Zn(8)"
   ]
  },
  {
   "cell_type": "code",
   "execution_count": 6,
   "id": "4bc279c0-b992-4909-8006-4d2d0cd5fc66",
   "metadata": {},
   "outputs": [
    {
     "data": {
      "text/plain": [
       "[1, 2, 4, 5, 8, 10, 11, 13, 16, 17, 19, 20]"
      ]
     },
     "execution_count": 6,
     "metadata": {},
     "output_type": "execute_result"
    }
   ],
   "source": [
    "[a for a in Zn if gcd(a, n)==1]"
   ]
  },
  {
   "cell_type": "code",
   "execution_count": 7,
   "id": "9553336d-12a0-4b72-a8b2-ea92777a9018",
   "metadata": {},
   "outputs": [
    {
     "data": {
      "text/plain": [
       "1"
      ]
     },
     "execution_count": 7,
     "metadata": {},
     "output_type": "execute_result"
    }
   ],
   "source": [
    "n = 343\n",
    "a = 220\n",
    "gcd(a, n)"
   ]
  },
  {
   "cell_type": "code",
   "execution_count": 8,
   "id": "36094fa4-472b-4e8e-8a6f-294b7ee99e42",
   "metadata": {},
   "outputs": [
    {
     "data": {
      "text/plain": [
       "145"
      ]
     },
     "execution_count": 8,
     "metadata": {},
     "output_type": "execute_result"
    }
   ],
   "source": [
    "power_mod(a, -1, n)"
   ]
  },
  {
   "cell_type": "code",
   "execution_count": 9,
   "id": "086ebf91-e0b0-4fa7-9889-041b01a7e4e5",
   "metadata": {},
   "outputs": [
    {
     "data": {
      "text/plain": [
       "(1, 145, -93)"
      ]
     },
     "execution_count": 9,
     "metadata": {},
     "output_type": "execute_result"
    }
   ],
   "source": [
    "xgcd(220, 343)"
   ]
  },
  {
   "cell_type": "code",
   "execution_count": 10,
   "id": "2d6ed8c5-915b-476c-ba70-1ddecb552e15",
   "metadata": {},
   "outputs": [
    {
     "data": {
      "text/plain": [
       "145"
      ]
     },
     "execution_count": 10,
     "metadata": {},
     "output_type": "execute_result"
    }
   ],
   "source": [
    "power_mod(220, -1, 343)"
   ]
  },
  {
   "cell_type": "code",
   "execution_count": 11,
   "id": "b80184f8-feb3-4617-bbf9-142f1ea6b71c",
   "metadata": {},
   "outputs": [],
   "source": [
    "def my_inverse(a, n):\n",
    "    if gcd(a, n) != 1:\n",
    "        return False\n",
    "    _, x, _ = xgcd(a, n)\n",
    "    return mod(x, n)"
   ]
  },
  {
   "cell_type": "code",
   "execution_count": 12,
   "id": "b8b1a7e8-3037-4779-bd66-44bbb552cefa",
   "metadata": {},
   "outputs": [
    {
     "data": {
      "text/plain": [
       "17"
      ]
     },
     "execution_count": 12,
     "metadata": {},
     "output_type": "execute_result"
    }
   ],
   "source": [
    "my_inverse(530, 1001)"
   ]
  },
  {
   "cell_type": "code",
   "execution_count": 13,
   "id": "8cf39647-9f6e-4e02-a184-c9577335b420",
   "metadata": {},
   "outputs": [
    {
     "data": {
      "text/plain": [
       "6226978905059102363980166304401292334747695650311574489925226443927586242397797250274256983146493712"
      ]
     },
     "execution_count": 13,
     "metadata": {},
     "output_type": "execute_result"
    }
   ],
   "source": [
    "my_inverse(7867621, 10^100+1)"
   ]
  },
  {
   "cell_type": "code",
   "execution_count": 17,
   "id": "4fe2b082-ad0e-40d0-a82e-c39fc588a9f1",
   "metadata": {},
   "outputs": [],
   "source": [
    "def factorial_mod(a, n):\n",
    "    produto = mod(1, n)\n",
    "    for k in range(1, a+1):\n",
    "        produto = produto * k\n",
    "    return produto\n",
    "\n",
    "def teste_Wilson(n):\n",
    "    return factorial_mod(n-1, n) == mod(-1, n)"
   ]
  },
  {
   "cell_type": "code",
   "execution_count": 16,
   "id": "37a7ecf6-7e71-4a5d-8e3e-b3c30b4d31da",
   "metadata": {},
   "outputs": [
    {
     "data": {
      "text/plain": [
       "<class 'sage.rings.finite_rings.integer_mod.IntegerMod_int'>"
      ]
     },
     "execution_count": 16,
     "metadata": {},
     "output_type": "execute_result"
    }
   ],
   "source": [
    "type(factorial_mod(10, 11))"
   ]
  },
  {
   "cell_type": "code",
   "execution_count": 18,
   "id": "77085d99-e5da-47bf-af3b-c7d25f2d24c0",
   "metadata": {},
   "outputs": [
    {
     "data": {
      "text/plain": [
       "True"
      ]
     },
     "execution_count": 18,
     "metadata": {},
     "output_type": "execute_result"
    }
   ],
   "source": [
    "teste_Wilson(7)"
   ]
  },
  {
   "cell_type": "code",
   "execution_count": 19,
   "id": "4a36e075-2b56-491a-bd45-52c48b62aa09",
   "metadata": {},
   "outputs": [
    {
     "data": {
      "text/plain": [
       "False"
      ]
     },
     "execution_count": 19,
     "metadata": {},
     "output_type": "execute_result"
    }
   ],
   "source": [
    "teste_Wilson(9)"
   ]
  },
  {
   "cell_type": "code",
   "execution_count": 20,
   "id": "5970a5bb-7849-417a-99a0-47cc91d6e007",
   "metadata": {},
   "outputs": [
    {
     "data": {
      "text/plain": [
       "Set of all prime numbers: 2, 3, 5, 7, ..."
      ]
     },
     "execution_count": 20,
     "metadata": {},
     "output_type": "execute_result"
    }
   ],
   "source": [
    "Primes()"
   ]
  },
  {
   "cell_type": "code",
   "execution_count": 21,
   "id": "59c1ba8d-085d-402b-ac63-7e4123b66e97",
   "metadata": {},
   "outputs": [
    {
     "data": {
      "text/plain": [
       "True"
      ]
     },
     "execution_count": 21,
     "metadata": {},
     "output_type": "execute_result"
    }
   ],
   "source": [
    "is_prime(7)"
   ]
  },
  {
   "cell_type": "code",
   "execution_count": null,
   "id": "d0cec255-d606-4fdc-8f4b-8432a68f5f4d",
   "metadata": {},
   "outputs": [],
   "source": []
  },
  {
   "cell_type": "code",
   "execution_count": 24,
   "id": "0c34d420-a79a-4430-9d14-621dd3a58f45",
   "metadata": {},
   "outputs": [],
   "source": [
    "def prime_from_trial_division(n):\n",
    "    upper_bound = floor(sqrt(n))\n",
    "    primes = [p for p in range(1, upper_bound+1) if is_prime(p)]\n",
    "    for p in primes:\n",
    "        if n%p == 0:\n",
    "            return False\n",
    "    return True"
   ]
  },
  {
   "cell_type": "code",
   "execution_count": 25,
   "id": "d3c76b11-8fe4-4028-a9c9-24d2af509cfa",
   "metadata": {},
   "outputs": [
    {
     "data": {
      "text/plain": [
       "True"
      ]
     },
     "execution_count": 25,
     "metadata": {},
     "output_type": "execute_result"
    }
   ],
   "source": [
    "prime_from_trial_division(89)"
   ]
  },
  {
   "cell_type": "code",
   "execution_count": 30,
   "id": "fecf7b76-b8bf-40bd-ad48-ce97ba1b70c0",
   "metadata": {},
   "outputs": [],
   "source": [
    "def Goldbach(n):\n",
    "    if is_odd(n):\n",
    "        return False\n",
    "    n1 = n//2 - 1 + (n//2)%2\n",
    "    n2 = n//2 + 1 - (n//2)%2\n",
    "    while not is_prime(n1) or not is_prime(n2):\n",
    "        n1 = n1-2\n",
    "        n2 = n2+2\n",
    "    return n1, n2\n",
    "    "
   ]
  },
  {
   "cell_type": "code",
   "execution_count": 31,
   "id": "c35f8287-7b38-4f26-9d5a-aabbac6378ed",
   "metadata": {},
   "outputs": [
    {
     "data": {
      "text/plain": [
       "(19, 31)"
      ]
     },
     "execution_count": 31,
     "metadata": {},
     "output_type": "execute_result"
    }
   ],
   "source": [
    "Goldbach(50)"
   ]
  },
  {
   "cell_type": "code",
   "execution_count": null,
   "id": "66ba06cb-7d1b-4b49-bb60-9624b79d02a1",
   "metadata": {},
   "outputs": [],
   "source": [
    "Goldbach"
   ]
  }
 ],
 "metadata": {
  "kernelspec": {
   "display_name": "SageMath 10.4",
   "language": "sage",
   "name": "sagemath-10.4"
  },
  "language_info": {
   "codemirror_mode": {
    "name": "ipython",
    "version": 3
   },
   "file_extension": ".py",
   "mimetype": "text/x-python",
   "name": "python",
   "nbconvert_exporter": "python",
   "pygments_lexer": "ipython3",
   "version": "3.12.4"
  }
 },
 "nbformat": 4,
 "nbformat_minor": 5
}
