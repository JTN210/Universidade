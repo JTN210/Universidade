{
 "cells": [
  {
   "cell_type": "code",
   "execution_count": null,
   "id": "d0feb9d4-f14b-4571-88b2-acead379e7e9",
   "metadata": {},
   "outputs": [],
   "source": [
    "f = lambda x: x^2+1\n",
    "x0 = 2"
   ]
  },
  {
   "cell_type": "code",
   "execution_count": null,
   "id": "d52a4a7d-4bde-4009-a87d-f1231fa43cbb",
   "metadata": {},
   "outputs": [],
   "source": [
    "n = 46009"
   ]
  },
  {
   "cell_type": "code",
   "execution_count": null,
   "id": "be06cf76-9efd-4cd6-9713-92c9492c24b6",
   "metadata": {},
   "outputs": [],
   "source": [
    "x0 = mod(x0, n)"
   ]
  },
  {
   "cell_type": "code",
   "execution_count": null,
   "id": "73cff2b8-8d1d-4a03-a348-95baca83cd68",
   "metadata": {},
   "outputs": [],
   "source": [
    "x = f(x0)\n",
    "y = f(f(x0))\n",
    "s = 1\n",
    "while gcd(y-x, n) == 1:\n",
    "    x = f(x)\n",
    "    y = f(f(y))\n",
    "    s +=1\n",
    "print(gcd(y-x, n), s)"
   ]
  },
  {
   "cell_type": "code",
   "execution_count": null,
   "id": "6635e1e1-b33d-47ff-ae44-6a912fcc2228",
   "metadata": {},
   "outputs": [],
   "source": [
    "def rho_Pollard(n, f =  lambda x: x^2+1, x0 = 2):\n",
    "    x0 = mod(x0, n)\n",
    "    x = f(x0)\n",
    "    y = f(f(x0))\n",
    "    s = 1\n",
    "    lista = [x0, x]\n",
    "    while gcd(y-x, n) == 1:\n",
    "        x = f(x)\n",
    "        y = f(f(y))\n",
    "        lista.append(x)\n",
    "        s += 1\n",
    "    print(s , \" iterações\")\n",
    "    print(lista)\n",
    "    return(gcd(y-x, n))"
   ]
  },
  {
   "cell_type": "code",
   "execution_count": null,
   "id": "3ffabb5c-b81c-48ab-a239-9fd61c7b0520",
   "metadata": {},
   "outputs": [],
   "source": [
    "rho_Pollard(46009)"
   ]
  },
  {
   "cell_type": "code",
   "execution_count": null,
   "id": "1bab387f-fff7-48f4-b10c-82423f4fe2a6",
   "metadata": {},
   "outputs": [],
   "source": [
    "rho_Pollard(1387)"
   ]
  },
  {
   "cell_type": "code",
   "execution_count": null,
   "id": "7c11cfb0-dce6-4a16-a709-1c1447b4cd16",
   "metadata": {},
   "outputs": [],
   "source": [
    "rho_Pollard(1387, lambda x: x^3 + x + 1, 2)"
   ]
  },
  {
   "cell_type": "markdown",
   "id": "743ee396-16ab-448d-92b8-e75cbb28d4f3",
   "metadata": {},
   "source": [
    "## Wilson's primes\n",
    "A prime $p$ is a Wilson prime if $$(p-1)!\\equiv -1 \\equiv p^2.$$"
   ]
  },
  {
   "cell_type": "markdown",
   "id": "4fb2a3e5-de77-414d-824d-25c4a5b540ec",
   "metadata": {},
   "source": [
    "### Conjecture:\n",
    "There are infinitely many Wilson's primes."
   ]
  },
  {
   "cell_type": "code",
   "execution_count": null,
   "id": "4a99aeea-6e3f-4250-8248-940aa5fc7909",
   "metadata": {},
   "outputs": [],
   "source": [
    "def fact_mod(k, n):\n",
    "    fact = mod(1, n)\n",
    "    for i in range(1, k+1):\n",
    "        fact = fact*i\n",
    "    return fact\n",
    "\n",
    "\n",
    "def Wilson_prime(n):\n",
    "    if not is_prime(n):\n",
    "        return False\n",
    "    return fact_mod(n-1, n^2) == mod(-1, n^2)"
   ]
  },
  {
   "cell_type": "code",
   "execution_count": null,
   "id": "ed5354ac-1743-4448-b8eb-2110debc8833",
   "metadata": {},
   "outputs": [],
   "source": [
    "Wilson_prime(5)"
   ]
  },
  {
   "cell_type": "code",
   "execution_count": null,
   "id": "a0e7ca0b-6bc4-4018-afdb-971b3d363168",
   "metadata": {},
   "outputs": [],
   "source": [
    "[k for k in range(1, 10000) if Wilson_prime(k)]"
   ]
  },
  {
   "cell_type": "code",
   "execution_count": null,
   "id": "904d4a25-18a8-4590-8382-726a9b681387",
   "metadata": {},
   "outputs": [],
   "source": []
  }
 ],
 "metadata": {
  "kernelspec": {
   "display_name": "SageMath 10.7",
   "language": "sage",
   "name": "sagemath"
  },
  "language_info": {
   "codemirror_mode": {
    "name": "ipython",
    "version": 3
   },
   "file_extension": ".py",
   "mimetype": "text/x-python",
   "name": "sage",
   "nbconvert_exporter": "python",
   "pygments_lexer": "ipython3",
   "version": "3.12.12"
  }
 },
 "nbformat": 4,
 "nbformat_minor": 5
}
