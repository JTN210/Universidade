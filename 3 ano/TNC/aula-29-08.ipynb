{
 "cells": [
  {
   "cell_type": "code",
   "execution_count": null,
   "id": "815fc6cf",
   "metadata": {},
   "outputs": [],
   "source": [
    "n = 11021"
   ]
  },
  {
   "cell_type": "code",
   "execution_count": null,
   "id": "99b35201",
   "metadata": {},
   "outputs": [],
   "source": [
    "t = ceil(sqrt(n))\n",
    "t"
   ]
  },
  {
   "cell_type": "code",
   "execution_count": null,
   "id": "23bed5b4",
   "metadata": {},
   "outputs": [],
   "source": [
    "\n",
    "while not is_square(t^2-n):\n",
    "    t+=1"
   ]
  },
  {
   "cell_type": "code",
   "execution_count": null,
   "id": "401cf22d",
   "metadata": {},
   "outputs": [],
   "source": [
    "s = sqrt(t^2-n)\n",
    "s, t"
   ]
  },
  {
   "cell_type": "code",
   "execution_count": null,
   "id": "48b58eb7",
   "metadata": {},
   "outputs": [],
   "source": [
    "p, q = t-s, t+s"
   ]
  },
  {
   "cell_type": "code",
   "execution_count": null,
   "id": "663199d1",
   "metadata": {},
   "outputs": [],
   "source": [
    "n == p*q"
   ]
  },
  {
   "cell_type": "code",
   "execution_count": null,
   "id": "01918a06",
   "metadata": {},
   "outputs": [],
   "source": [
    "p, q"
   ]
  },
  {
   "cell_type": "code",
   "execution_count": null,
   "id": "4029b0cb",
   "metadata": {},
   "outputs": [],
   "source": [
    "def fact_Fermat(n):\n",
    "    t = ceil(sqrt(n))\n",
    "    while not is_square(t^2-n):\n",
    "        t = t+1\n",
    "    s = sqrt(t^2-n)\n",
    "    return t-s, t+s"
   ]
  },
  {
   "cell_type": "code",
   "execution_count": null,
   "id": "eb61c43e",
   "metadata": {},
   "outputs": [],
   "source": [
    "fact_Fermat(12941294194139141)"
   ]
  },
  {
   "cell_type": "code",
   "execution_count": null,
   "id": "436b1976",
   "metadata": {},
   "outputs": [],
   "source": [
    "p = random_prime (2^1024, 2^10230)\n",
    "q = next_prime(p+100000)\n",
    "p,q"
   ]
  },
  {
   "cell_type": "code",
   "execution_count": null,
   "id": "8c5c27e7",
   "metadata": {},
   "outputs": [],
   "source": [
    "n = p*q\n",
    "n"
   ]
  },
  {
   "cell_type": "markdown",
   "id": "0341ebd3",
   "metadata": {},
   "source": [
    "## Aplicações do TCR"
   ]
  },
  {
   "cell_type": "code",
   "execution_count": null,
   "id": "608dfef0",
   "metadata": {},
   "outputs": [],
   "source": [
    "crt(5,5,10,9)"
   ]
  },
  {
   "cell_type": "code",
   "execution_count": null,
   "id": "084abfb8",
   "metadata": {},
   "outputs": [],
   "source": [
    "crt(1,7,10,9)"
   ]
  },
  {
   "cell_type": "code",
   "execution_count": null,
   "id": "7f2478c0",
   "metadata": {},
   "outputs": [],
   "source": [
    "crt(crt(4,2,10,9),5,90,7)"
   ]
  },
  {
   "cell_type": "code",
   "execution_count": null,
   "id": "2047c037",
   "metadata": {},
   "outputs": [],
   "source": [
    "a,b = 323,1261\n",
    "n1 = 100\n",
    "n2= 99"
   ]
  },
  {
   "cell_type": "code",
   "execution_count": null,
   "id": "4f3fa847",
   "metadata": {},
   "outputs": [],
   "source": [
    "a1, a2 = mod(a,n1),mod(a,n2)\n",
    "b1, b2 = mod(b,n1),mod(b,n2)"
   ]
  },
  {
   "cell_type": "code",
   "execution_count": null,
   "id": "335b1382",
   "metadata": {},
   "outputs": [],
   "source": [
    "c1,c2 = ZZ(a1+b1),ZZ(a2+b2)\n",
    "c1,c2"
   ]
  },
  {
   "cell_type": "code",
   "execution_count": null,
   "id": "64c0443a",
   "metadata": {},
   "outputs": [
    {
     "data": {
      "text/plain": [
       "1584"
      ]
     },
     "execution_count": 46,
     "metadata": {},
     "output_type": "execute_result"
    }
   ],
   "source": [
    "crt(c1,c2,n1,n2)"
   ]
  },
  {
   "cell_type": "code",
   "execution_count": 47,
   "id": "69a40a25",
   "metadata": {},
   "outputs": [
    {
     "data": {
      "text/plain": [
       "1584"
      ]
     },
     "execution_count": 47,
     "metadata": {},
     "output_type": "execute_result"
    }
   ],
   "source": [
    "a+b"
   ]
  },
  {
   "cell_type": "code",
   "execution_count": 53,
   "id": "77a3c546",
   "metadata": {},
   "outputs": [],
   "source": [
    "a,b = 124,201\n",
    "a*b\n",
    "n1 = 100\n",
    "n2= 99\n",
    "n3 = 97"
   ]
  },
  {
   "cell_type": "code",
   "execution_count": 49,
   "id": "56518f0a",
   "metadata": {},
   "outputs": [],
   "source": [
    "a1, a2, a3 = mod(a,n1),mod(a,n2),mod(a,n3)\n",
    "b1, b2, b3 = mod(b,n1),mod(b,n2),mod(b,n3)"
   ]
  },
  {
   "cell_type": "code",
   "execution_count": 50,
   "id": "dae7d86c",
   "metadata": {},
   "outputs": [
    {
     "data": {
      "text/plain": [
       "(24, 75, 92)"
      ]
     },
     "execution_count": 50,
     "metadata": {},
     "output_type": "execute_result"
    }
   ],
   "source": [
    "c1, c2, c3 = ZZ(a1*b1), ZZ(a2*b2), ZZ(a3*b3)\n",
    "c1 ,c2, c3"
   ]
  },
  {
   "cell_type": "code",
   "execution_count": 51,
   "id": "1b17ed21",
   "metadata": {},
   "outputs": [
    {
     "data": {
      "text/plain": [
       "24924"
      ]
     },
     "execution_count": 51,
     "metadata": {},
     "output_type": "execute_result"
    }
   ],
   "source": [
    "sol1= crt(c1,c2,n1,n2)\n",
    "\n",
    "crt(sol1, c3, n1*n2, n3)"
   ]
  }
 ],
 "metadata": {
  "kernelspec": {
   "display_name": "SageMath 10.7",
   "language": "sage",
   "name": "sagemath"
  },
  "language_info": {
   "codemirror_mode": {
    "name": "ipython",
    "version": 3
   },
   "file_extension": ".py",
   "mimetype": "text/x-python",
   "name": "sage",
   "nbconvert_exporter": "python",
   "pygments_lexer": "ipython3",
   "version": "3.12.11"
  }
 },
 "nbformat": 4,
 "nbformat_minor": 5
}
