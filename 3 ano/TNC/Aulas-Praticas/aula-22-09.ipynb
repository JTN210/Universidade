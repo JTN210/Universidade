{
 "cells": [
  {
   "cell_type": "code",
   "execution_count": null,
   "id": "064f1c79",
   "metadata": {},
   "outputs": [
    {
     "data": {
      "text/plain": [
       "Ring of integers modulo 21"
      ]
     },
     "execution_count": 1,
     "metadata": {},
     "output_type": "execute_result"
    }
   ],
   "source": [
    "# Import IntegerModRing from SageMath\n",
    "from sage.all import *\n",
    "n = 21\n",
    "Zn = IntegerModRing(n)\n",
    "Zn"
   ]
  },
  {
   "cell_type": "code",
   "execution_count": null,
   "id": "a58c4eed",
   "metadata": {},
   "outputs": [],
   "source": [
    "Zn.is_field()"
   ]
  },
  {
   "cell_type": "code",
   "execution_count": null,
   "id": "4c01bbf5",
   "metadata": {},
   "outputs": [],
   "source": [
    "gcd(18,21) == 1"
   ]
  },
  {
   "cell_type": "code",
   "execution_count": null,
   "id": "ef9861c2",
   "metadata": {},
   "outputs": [],
   "source": [
    "1/Zn(8)"
   ]
  },
  {
   "cell_type": "code",
   "execution_count": null,
   "id": "ed7fc62b",
   "metadata": {},
   "outputs": [],
   "source": [
    "[a for a in Zn if gcd(a,n) == 1]"
   ]
  },
  {
   "cell_type": "code",
   "execution_count": null,
   "id": "8a74b1a2",
   "metadata": {},
   "outputs": [],
   "source": [
    "n = 343\n",
    "a = 220\n",
    "gcd(a,n)\n",
    "\n",
    "'''\n",
    "343 = 220 * 1 + 123\n",
    "220 = 123 * 1 + 97\n",
    "123 = 97 * 1 + 26\n",
    "97 = 26 * 3 + 19\n",
    "26 = 19 * 1 + 7\n",
    "19 = 7 * 2 + 5\n",
    "7 = 5 * 1 + 2\n",
    "5 = 2 * 2 + 1\n",
    "1 = 220 * 145 + 343 * (-93)\n",
    "1 = 220 * 145 + 343 * (-93) mod 343\n",
    "1 * 220 * 145 = 1 mod 343\n",
    "'''"
   ]
  },
  {
   "cell_type": "code",
   "execution_count": null,
   "id": "c16bbc2f",
   "metadata": {},
   "outputs": [],
   "source": [
    "power_mod(220,-1, 343) "
   ]
  },
  {
   "cell_type": "code",
   "execution_count": null,
   "id": "5c51079d",
   "metadata": {},
   "outputs": [],
   "source": [
    "def my_inverse(a,n):\n",
    "    if gcd(a,n) != 1:\n",
    "        return False\n",
    "    _,x,_ = xgcd(a,n)\n",
    "    return mod(x,n)"
   ]
  },
  {
   "cell_type": "code",
   "execution_count": null,
   "id": "d55e0342",
   "metadata": {},
   "outputs": [],
   "source": [
    "my_inverse(530, 1001)"
   ]
  },
  {
   "cell_type": "code",
   "execution_count": null,
   "id": "91459cb6",
   "metadata": {},
   "outputs": [],
   "source": [
    "def factorial_mod(a,n):\n",
    "    produto = mod(1,n)\n",
    "    for k in rang(1, a+1):\n",
    "        produto = produto + k\n",
    "        return produto\n",
    "\n",
    "def test_wilson(n):\n",
    "    return factorial_mod(n-1,n) == mod(n-1,n)"
   ]
  },
  {
   "cell_type": "code",
   "execution_count": null,
   "id": "f33749bd",
   "metadata": {},
   "outputs": [],
   "source": [
    "type(factorial_mod(10,11))"
   ]
  },
  {
   "cell_type": "code",
   "execution_count": null,
   "id": "d2bc391a",
   "metadata": {},
   "outputs": [],
   "source": [
    "test_wilson(7)"
   ]
  },
  {
   "cell_type": "code",
   "execution_count": null,
   "id": "ea71a2bb",
   "metadata": {},
   "outputs": [],
   "source": [
    "test_wilson(9)"
   ]
  },
  {
   "cell_type": "code",
   "execution_count": null,
   "id": "e2bbfc6a",
   "metadata": {},
   "outputs": [
    {
     "data": {
      "text/plain": [
       "Set of all prime numbers: 2, 3, 5, 7, ..."
      ]
     },
     "execution_count": 3,
     "metadata": {},
     "output_type": "execute_result"
    }
   ],
   "source": [
    "Primes()\n"
   ]
  },
  {
   "cell_type": "code",
   "execution_count": null,
   "id": "99a9ba05",
   "metadata": {},
   "outputs": [
    {
     "data": {
      "text/plain": [
       "True"
      ]
     },
     "execution_count": 3,
     "metadata": {},
     "output_type": "execute_result"
    }
   ],
   "source": [
    "is_prime(7)"
   ]
  },
  {
   "cell_type": "code",
   "execution_count": null,
   "id": "079049aa",
   "metadata": {},
   "outputs": [],
   "source": [
    "def prime_from_trial_division(n):\n",
    "    upper_bound = floor(sqrt(n))\n",
    "    primes = [p for p in range(1, upper_bound+1) if is_prime(p)]\n",
    "    for p in primes:\n",
    "        if n % p == 0:\n",
    "            return False\n",
    "    return True\n"
   ]
  },
  {
   "cell_type": "code",
   "execution_count": null,
   "id": "5880ca87",
   "metadata": {},
   "outputs": [
    {
     "data": {
      "text/plain": [
       "True"
      ]
     },
     "execution_count": 5,
     "metadata": {},
     "output_type": "execute_result"
    }
   ],
   "source": [
    "prime_from_trial_division(89)"
   ]
  },
  {
   "cell_type": "code",
   "execution_count": null,
   "id": "3fd3b82c",
   "metadata": {},
   "outputs": [],
   "source": [
    "def Goldbach(n):\n",
    "    if is_odd(n):\n",
    "        return False\n",
    "    n1 = n//2 - 1 + (n//2)%2\n",
    "    n2 = n//2 + 1 - (n//2)%2\n",
    "    while not is_prime(n1) or not is_prime(n2):\n",
    "        n1 = n1-2\n",
    "        n2 = n2+2\n",
    "    return n1,n2 "
   ]
  },
  {
   "cell_type": "code",
   "execution_count": null,
   "id": "a1dfac6b",
   "metadata": {},
   "outputs": [
    {
     "data": {
      "text/plain": [
       "(19, 31)"
      ]
     },
     "execution_count": 7,
     "metadata": {},
     "output_type": "execute_result"
    }
   ],
   "source": [
    "Goldbach(50)"
   ]
  },
  {
   "cell_type": "code",
   "execution_count": null,
   "id": "e9323a92",
   "metadata": {},
   "outputs": [
    {
     "data": {
      "text/plain": [
       "(59, 61)"
      ]
     },
     "execution_count": 8,
     "metadata": {},
     "output_type": "execute_result"
    }
   ],
   "source": [
    "Goldbach(120)"
   ]
  }
 ],
 "metadata": {
  "kernelspec": {
   "display_name": "SageMath 10.7",
   "language": "sage",
   "name": "sagemath"
  },
  "language_info": {
   "codemirror_mode": {
    "name": "ipython",
    "version": 3
   },
   "file_extension": ".py",
   "mimetype": "text/x-python",
   "name": "sage",
   "nbconvert_exporter": "python",
   "pygments_lexer": "ipython3",
   "version": "3.12.11"
  }
 },
 "nbformat": 4,
 "nbformat_minor": 5
}
