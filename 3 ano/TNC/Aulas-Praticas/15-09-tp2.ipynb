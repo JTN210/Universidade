{
 "cells": [
  {
   "cell_type": "markdown",
   "id": "68ba0faf-d86a-43bc-a945-c578df22d541",
   "metadata": {},
   "source": [
    "## Aritmética modular"
   ]
  },
  {
   "cell_type": "code",
   "execution_count": 2,
   "id": "8377429c-05c8-4151-85e2-00898c05b0c2",
   "metadata": {},
   "outputs": [],
   "source": [
    "p = 11\n",
    "Z11 = IntegerModRing(p)"
   ]
  },
  {
   "cell_type": "code",
   "execution_count": 3,
   "id": "53c45ad0-73d0-40a6-80a5-2fd292a01e1b",
   "metadata": {},
   "outputs": [
    {
     "data": {
      "text/plain": [
       "Ring of integers modulo 11"
      ]
     },
     "execution_count": 3,
     "metadata": {},
     "output_type": "execute_result"
    }
   ],
   "source": [
    "Z11"
   ]
  },
  {
   "cell_type": "code",
   "execution_count": 4,
   "id": "9026100c-a51c-40d1-a660-11649a05fbb3",
   "metadata": {},
   "outputs": [],
   "source": [
    "a = Z11(2)"
   ]
  },
  {
   "cell_type": "code",
   "execution_count": 5,
   "id": "65c04628-71d4-4910-8547-a1e7dd6f8cb8",
   "metadata": {},
   "outputs": [
    {
     "data": {
      "text/plain": [
       "<class 'sage.rings.finite_rings.integer_mod.IntegerMod_int'>"
      ]
     },
     "execution_count": 5,
     "metadata": {},
     "output_type": "execute_result"
    }
   ],
   "source": [
    "type(a)"
   ]
  },
  {
   "cell_type": "code",
   "execution_count": 6,
   "id": "74aa0e62-fab7-4690-98bf-7d065d3877d9",
   "metadata": {},
   "outputs": [
    {
     "data": {
      "text/plain": [
       "5"
      ]
     },
     "execution_count": 6,
     "metadata": {},
     "output_type": "execute_result"
    }
   ],
   "source": [
    "a^4"
   ]
  },
  {
   "cell_type": "code",
   "execution_count": 7,
   "id": "1aaff0b8-8abc-4521-ae86-fbd56f2b0b67",
   "metadata": {},
   "outputs": [
    {
     "data": {
      "text/plain": [
       "6"
      ]
     },
     "execution_count": 7,
     "metadata": {},
     "output_type": "execute_result"
    }
   ],
   "source": [
    "1/a"
   ]
  },
  {
   "cell_type": "code",
   "execution_count": 8,
   "id": "0560dd92-9eca-48dc-bff8-e28cc2945237",
   "metadata": {},
   "outputs": [
    {
     "data": {
      "text/plain": [
       "2"
      ]
     },
     "execution_count": 8,
     "metadata": {},
     "output_type": "execute_result"
    }
   ],
   "source": [
    "a1 = Z11(4)\n",
    "a2 = Z11(9)\n",
    "a1+a2"
   ]
  },
  {
   "cell_type": "code",
   "execution_count": 9,
   "id": "621c1f0b-0872-4dd3-9399-24841cf51933",
   "metadata": {},
   "outputs": [
    {
     "data": {
      "text/plain": [
       "3"
      ]
     },
     "execution_count": 9,
     "metadata": {},
     "output_type": "execute_result"
    }
   ],
   "source": [
    "a1*a2"
   ]
  },
  {
   "cell_type": "code",
   "execution_count": 10,
   "id": "3bd3bc4e-50a1-41eb-9713-b943218001db",
   "metadata": {},
   "outputs": [
    {
     "data": {
      "text/plain": [
       "2"
      ]
     },
     "execution_count": 10,
     "metadata": {},
     "output_type": "execute_result"
    }
   ],
   "source": [
    "a"
   ]
  },
  {
   "cell_type": "code",
   "execution_count": 11,
   "id": "f4a04f0a-fa83-4474-a3f1-d6643cc223cd",
   "metadata": {},
   "outputs": [
    {
     "data": {
      "text/plain": [
       "1"
      ]
     },
     "execution_count": 11,
     "metadata": {},
     "output_type": "execute_result"
    }
   ],
   "source": [
    "a^10"
   ]
  },
  {
   "cell_type": "code",
   "execution_count": 12,
   "id": "8a72ebe7-07be-4d3f-8f41-e214a923b184",
   "metadata": {},
   "outputs": [
    {
     "data": {
      "text/plain": [
       "8"
      ]
     },
     "execution_count": 12,
     "metadata": {},
     "output_type": "execute_result"
    }
   ],
   "source": [
    "a^13"
   ]
  },
  {
   "cell_type": "code",
   "execution_count": 13,
   "id": "2336998c-e891-493b-b1f8-880d5b3859b3",
   "metadata": {},
   "outputs": [
    {
     "data": {
      "text/plain": [
       "[2, 4, 8, 5, 10, 9, 7, 3, 6, 1]"
      ]
     },
     "execution_count": 13,
     "metadata": {},
     "output_type": "execute_result"
    }
   ],
   "source": [
    "[a^k for k in range(1, 11)]"
   ]
  },
  {
   "cell_type": "code",
   "execution_count": 14,
   "id": "509d1c20-4223-408b-b1cb-7f6445efa1ef",
   "metadata": {},
   "outputs": [
    {
     "data": {
      "text/plain": [
       "[3, 9, 5, 4, 1, 3, 9, 5, 4, 1]"
      ]
     },
     "execution_count": 14,
     "metadata": {},
     "output_type": "execute_result"
    }
   ],
   "source": [
    "[Z11(3)^k for k in range(1, 11)]"
   ]
  },
  {
   "cell_type": "code",
   "execution_count": 18,
   "id": "af23e9f5-1fb9-4909-82dd-45380826d14e",
   "metadata": {},
   "outputs": [
    {
     "data": {
      "text/plain": [
       "False"
      ]
     },
     "execution_count": 18,
     "metadata": {},
     "output_type": "execute_result"
    }
   ],
   "source": [
    "n = 15\n",
    "a = 2\n",
    "a^(n-1)%n == 1"
   ]
  },
  {
   "cell_type": "code",
   "execution_count": 20,
   "id": "07e2681c-d6d9-4488-a390-547b6fd6c5ee",
   "metadata": {},
   "outputs": [],
   "source": [
    "n = 87635789698735269808953274072764523987573482955734289\n",
    "a = 2"
   ]
  },
  {
   "cell_type": "code",
   "execution_count": null,
   "id": "e9edba38-672f-4d41-8aae-6923d4b60eb5",
   "metadata": {},
   "outputs": [],
   "source": [
    "a^(n-1)%n == 1"
   ]
  },
  {
   "cell_type": "code",
   "execution_count": 25,
   "id": "fc97dbfc-c898-4b0b-aa0c-e06f8910666f",
   "metadata": {},
   "outputs": [
    {
     "data": {
      "text/plain": [
       "False"
      ]
     },
     "execution_count": 25,
     "metadata": {},
     "output_type": "execute_result"
    }
   ],
   "source": [
    "power_mod(a, n-1, n) == 1"
   ]
  },
  {
   "cell_type": "code",
   "execution_count": 26,
   "id": "3a6a51b8-27b5-4a54-99c0-dd39d1a503c4",
   "metadata": {},
   "outputs": [
    {
     "data": {
      "text/plain": [
       "True"
      ]
     },
     "execution_count": 26,
     "metadata": {},
     "output_type": "execute_result"
    }
   ],
   "source": [
    "a, n = 2, 341\n",
    "power_mod(2, n-1, n) == 1"
   ]
  },
  {
   "cell_type": "code",
   "execution_count": 27,
   "id": "21efc182-2d4d-407d-a7cc-51c431dad755",
   "metadata": {},
   "outputs": [
    {
     "data": {
      "text/plain": [
       "11 * 31"
      ]
     },
     "execution_count": 27,
     "metadata": {},
     "output_type": "execute_result"
    }
   ],
   "source": [
    "factor(n)"
   ]
  },
  {
   "cell_type": "code",
   "execution_count": 28,
   "id": "f38cb2aa-1dce-4760-bf43-1267685f63c4",
   "metadata": {},
   "outputs": [
    {
     "data": {
      "text/plain": [
       "False"
      ]
     },
     "execution_count": 28,
     "metadata": {},
     "output_type": "execute_result"
    }
   ],
   "source": [
    "gcd(3, n) == 1 and power_mod(3, n-1, n) == 1"
   ]
  },
  {
   "cell_type": "code",
   "execution_count": 29,
   "id": "a6b73df0-a496-4915-b783-5217b917b6cd",
   "metadata": {},
   "outputs": [
    {
     "data": {
      "text/plain": [
       "True"
      ]
     },
     "execution_count": 29,
     "metadata": {},
     "output_type": "execute_result"
    }
   ],
   "source": [
    "gcd(3, n) == 1"
   ]
  },
  {
   "cell_type": "code",
   "execution_count": 32,
   "id": "ac702234-bbc7-4ca8-a0ee-0aef76db47f4",
   "metadata": {},
   "outputs": [],
   "source": [
    "def pseudo_fraco(n, a = 2):\n",
    "    if gcd(n,a) != 1:\n",
    "        return False\n",
    "    Zn = IntegerModRing(n)\n",
    "    base = Zn(a)\n",
    "    return base^(n-1) == 1\n",
    "    "
   ]
  },
  {
   "cell_type": "code",
   "execution_count": 33,
   "id": "ce219077-e639-4039-8256-659befab7e83",
   "metadata": {},
   "outputs": [
    {
     "data": {
      "text/plain": [
       "True"
      ]
     },
     "execution_count": 33,
     "metadata": {},
     "output_type": "execute_result"
    }
   ],
   "source": [
    "pseudo_fraco(341)"
   ]
  },
  {
   "cell_type": "code",
   "execution_count": 34,
   "id": "d5a75b8e-5dbb-4fd9-a969-62872474914d",
   "metadata": {},
   "outputs": [
    {
     "data": {
      "text/plain": [
       "False"
      ]
     },
     "execution_count": 34,
     "metadata": {},
     "output_type": "execute_result"
    }
   ],
   "source": [
    "pseudo_fraco(341, 3)"
   ]
  },
  {
   "cell_type": "code",
   "execution_count": 38,
   "id": "d46e5fd7-a74b-4a06-abe6-410aa9d19680",
   "metadata": {},
   "outputs": [],
   "source": [
    "lista = [n for n in range(3, 10000, 2) if not n in Primes() and pseudo_fraco(n)]"
   ]
  },
  {
   "cell_type": "code",
   "execution_count": 40,
   "id": "de97b0a2-4010-4c7c-a447-50e03b5c7d0a",
   "metadata": {},
   "outputs": [
    {
     "data": {
      "text/plain": [
       "[1105, 1729, 2465, 2701, 2821, 6601, 8911]"
      ]
     },
     "execution_count": 40,
     "metadata": {},
     "output_type": "execute_result"
    }
   ],
   "source": [
    "[a for a in lista if pseudo_fraco(a, 3)]"
   ]
  },
  {
   "cell_type": "code",
   "execution_count": null,
   "id": "bc325bf2-1b18-4eaf-b1d3-a2342cdc492d",
   "metadata": {},
   "outputs": [],
   "source": []
  }
 ],
 "metadata": {
  "kernelspec": {
   "display_name": "SageMath 10.4",
   "language": "sage",
   "name": "sagemath-10.4"
  },
  "language_info": {
   "codemirror_mode": {
    "name": "ipython",
    "version": 3
   },
   "file_extension": ".py",
   "mimetype": "text/x-python",
   "name": "python",
   "nbconvert_exporter": "python",
   "pygments_lexer": "ipython3",
   "version": "3.12.4"
  }
 },
 "nbformat": 4,
 "nbformat_minor": 5
}
