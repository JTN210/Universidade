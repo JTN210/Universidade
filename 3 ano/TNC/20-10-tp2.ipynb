{
 "cells": [
  {
   "cell_type": "markdown",
   "id": "149619da-db47-44fd-8d7a-41e180ed0295",
   "metadata": {},
   "source": [
    "## $(p-1)$- Pollard"
   ]
  },
  {
   "cell_type": "code",
   "execution_count": 3,
   "id": "a506cb44-de4a-4ef5-9770-d4d86f1876d6",
   "metadata": {},
   "outputs": [],
   "source": [
    "def pmenos1_Pollard(n):\n",
    "    r = mod(2, n)\n",
    "    k = 1\n",
    "    while gcd(r-1, n) == 1:\n",
    "        k += 1\n",
    "        r = r^k\n",
    "    print(\"k = \",k)\n",
    "    return gcd(r-1, n)\n",
    "        "
   ]
  },
  {
   "cell_type": "code",
   "execution_count": 4,
   "id": "dd3a018b-7634-432a-ae3a-637112654916",
   "metadata": {},
   "outputs": [
    {
     "name": "stdout",
     "output_type": "stream",
     "text": [
      "k =  4\n"
     ]
    },
    {
     "data": {
      "text/plain": [
       "17"
      ]
     },
     "execution_count": 4,
     "metadata": {},
     "output_type": "execute_result"
    }
   ],
   "source": [
    "pmenos1_Pollard(17*29)"
   ]
  },
  {
   "cell_type": "code",
   "execution_count": 8,
   "id": "8b00fcd7-9177-469e-b6a8-0a0b8bee4f0c",
   "metadata": {},
   "outputs": [
    {
     "data": {
      "text/plain": [
       "17"
      ]
     },
     "execution_count": 8,
     "metadata": {},
     "output_type": "execute_result"
    }
   ],
   "source": [
    "gcd(power_mod(2, factorial(4), 17*29)-1, 17*29)"
   ]
  },
  {
   "cell_type": "markdown",
   "id": "b69d1346-c6ad-41df-a277-7e8b7de93006",
   "metadata": {},
   "source": [
    "## Teste de primalidade Miller-Rabin"
   ]
  },
  {
   "cell_type": "code",
   "execution_count": 20,
   "id": "748c2121-d441-485b-b36a-9be65e8e394c",
   "metadata": {},
   "outputs": [],
   "source": [
    "n = 23\n",
    "Zn = IntegerModRing(n)"
   ]
  },
  {
   "cell_type": "code",
   "execution_count": 21,
   "id": "b4558c5b-63ed-4787-86a6-bf6a7232bcfe",
   "metadata": {},
   "outputs": [
    {
     "data": {
      "text/plain": [
       "[0, 1, 4, 9, 16, 2, 13, 3, 18, 12, 8, 6, 6, 8, 12, 18, 3, 13, 2, 16, 9, 4, 1]"
      ]
     },
     "execution_count": 21,
     "metadata": {},
     "output_type": "execute_result"
    }
   ],
   "source": [
    "[x^2 for x in Zn]"
   ]
  },
  {
   "cell_type": "code",
   "execution_count": 23,
   "id": "a2d0c2aa-5b88-406e-b2c4-4f382bce09fa",
   "metadata": {},
   "outputs": [
    {
     "data": {
      "text/plain": [
       "41"
      ]
     },
     "execution_count": 23,
     "metadata": {},
     "output_type": "execute_result"
    }
   ],
   "source": [
    "n = 2^3*5+1\n",
    "n"
   ]
  },
  {
   "cell_type": "code",
   "execution_count": 24,
   "id": "32cfcae5-2fca-4603-a140-5111cf7d24f0",
   "metadata": {},
   "outputs": [
    {
     "data": {
      "text/plain": [
       "Ring of integers modulo 41"
      ]
     },
     "execution_count": 24,
     "metadata": {},
     "output_type": "execute_result"
    }
   ],
   "source": [
    "Zn = IntegerModRing(n)\n",
    "Zn"
   ]
  },
  {
   "cell_type": "code",
   "execution_count": 25,
   "id": "3d36c2df-097c-411f-adee-24e7a4452ad9",
   "metadata": {},
   "outputs": [],
   "source": [
    "b = Zn(2)"
   ]
  },
  {
   "cell_type": "code",
   "execution_count": 26,
   "id": "2d81bab0-2ad1-4b0e-a5de-c32619fb6260",
   "metadata": {},
   "outputs": [
    {
     "data": {
      "text/plain": [
       "1"
      ]
     },
     "execution_count": 26,
     "metadata": {},
     "output_type": "execute_result"
    }
   ],
   "source": [
    "b^(n-1)"
   ]
  },
  {
   "cell_type": "code",
   "execution_count": 27,
   "id": "59963d3e-3403-4145-bda5-b11f677dcb7a",
   "metadata": {},
   "outputs": [
    {
     "data": {
      "text/plain": [
       "1"
      ]
     },
     "execution_count": 27,
     "metadata": {},
     "output_type": "execute_result"
    }
   ],
   "source": [
    "b^((n-1)/2)"
   ]
  },
  {
   "cell_type": "code",
   "execution_count": 29,
   "id": "2abe5afb-cb94-4fa3-a852-04d9fc2be76d",
   "metadata": {},
   "outputs": [
    {
     "data": {
      "text/plain": [
       "40"
      ]
     },
     "execution_count": 29,
     "metadata": {},
     "output_type": "execute_result"
    }
   ],
   "source": [
    "b^((n-1)/2^2)"
   ]
  },
  {
   "cell_type": "code",
   "execution_count": 30,
   "id": "8d3e997e-ebba-451a-84f0-9e4ad1ecbd0e",
   "metadata": {},
   "outputs": [
    {
     "data": {
      "text/plain": [
       "32"
      ]
     },
     "execution_count": 30,
     "metadata": {},
     "output_type": "execute_result"
    }
   ],
   "source": [
    "b^((n-1)/2^3)"
   ]
  },
  {
   "cell_type": "code",
   "execution_count": 47,
   "id": "f371a91b-4b91-4ca6-a2bf-e3523c043dbb",
   "metadata": {},
   "outputs": [
    {
     "data": {
      "text/plain": [
       "15361"
      ]
     },
     "execution_count": 47,
     "metadata": {},
     "output_type": "execute_result"
    }
   ],
   "source": [
    "s, t = 10, 15\n",
    "n = 2^s*t +1\n",
    "b = mod(14531, n)\n",
    "n"
   ]
  },
  {
   "cell_type": "code",
   "execution_count": 48,
   "id": "d6adf0a4-0194-49a3-8e22-bfa2d5b8150c",
   "metadata": {},
   "outputs": [
    {
     "data": {
      "text/plain": [
       "[5049, 8502, 10499, 13826, 5992, 5407, 3666, 14042, 3968, 15360, 1]"
      ]
     },
     "execution_count": 48,
     "metadata": {},
     "output_type": "execute_result"
    }
   ],
   "source": [
    "SeqB = [b^t]\n",
    "for j in range(1, s+1):\n",
    "    x = SeqB[-1]\n",
    "    SeqB.append(x^2)\n",
    "SeqB"
   ]
  },
  {
   "cell_type": "code",
   "execution_count": 55,
   "id": "1621b4aa-8190-4dd3-90e0-bb11fbe3770d",
   "metadata": {},
   "outputs": [],
   "source": [
    "def decomp(n):\n",
    "    s = 1\n",
    "    t = (n-1)//2\n",
    "    while is_even(t):\n",
    "        s += 1\n",
    "        t = t//2\n",
    "    return s, t\n",
    "\n",
    "def Miller(n, b = 2):\n",
    "    s, t = decomp(n)\n",
    "    b = mod(b, n)\n",
    "    if b^t == 1:\n",
    "        return True\n",
    "    j = 0\n",
    "    while b^((2^j)*t) != mod(-1, n) and j <= s-1:\n",
    "        j += 1\n",
    "    return j != s"
   ]
  },
  {
   "cell_type": "code",
   "execution_count": 56,
   "id": "e1d64fc8-4221-4c35-b82c-2ce01bb45e40",
   "metadata": {},
   "outputs": [
    {
     "data": {
      "text/plain": [
       "True"
      ]
     },
     "execution_count": 56,
     "metadata": {},
     "output_type": "execute_result"
    }
   ],
   "source": [
    "Miller(15361)"
   ]
  },
  {
   "cell_type": "code",
   "execution_count": 59,
   "id": "a3fea70d-8e75-4ae5-bc65-40de1ab2ae26",
   "metadata": {},
   "outputs": [
    {
     "data": {
      "text/plain": [
       "True"
      ]
     },
     "execution_count": 59,
     "metadata": {},
     "output_type": "execute_result"
    }
   ],
   "source": [
    "Miller(2047)"
   ]
  },
  {
   "cell_type": "code",
   "execution_count": 60,
   "id": "a586692d-5c68-4f1c-a4ba-92588bc0f311",
   "metadata": {},
   "outputs": [
    {
     "data": {
      "text/plain": [
       "False"
      ]
     },
     "execution_count": 60,
     "metadata": {},
     "output_type": "execute_result"
    }
   ],
   "source": [
    "Miller(2047, 3)"
   ]
  },
  {
   "cell_type": "code",
   "execution_count": 74,
   "id": "16474601-4ff5-4a08-b650-3930d0ba2f7e",
   "metadata": {},
   "outputs": [
    {
     "data": {
      "text/plain": [
       "[6,\n",
       " 14,\n",
       " 22,\n",
       " 26,\n",
       " 34,\n",
       " 38,\n",
       " 46,\n",
       " 58,\n",
       " 62,\n",
       " 74,\n",
       " 82,\n",
       " 86,\n",
       " 94,\n",
       " 106,\n",
       " 118,\n",
       " 122,\n",
       " 134,\n",
       " 142,\n",
       " 146,\n",
       " 158,\n",
       " 166,\n",
       " 178,\n",
       " 194,\n",
       " 202,\n",
       " 206,\n",
       " 214,\n",
       " 218,\n",
       " 226,\n",
       " 254,\n",
       " 262,\n",
       " 274,\n",
       " 278,\n",
       " 298,\n",
       " 302,\n",
       " 314,\n",
       " 326,\n",
       " 334,\n",
       " 346,\n",
       " 358,\n",
       " 362,\n",
       " 382,\n",
       " 386,\n",
       " 394,\n",
       " 398,\n",
       " 422,\n",
       " 446,\n",
       " 454,\n",
       " 458,\n",
       " 466,\n",
       " 478,\n",
       " 482,\n",
       " 502,\n",
       " 514,\n",
       " 526,\n",
       " 538,\n",
       " 542,\n",
       " 554,\n",
       " 562,\n",
       " 566,\n",
       " 586,\n",
       " 614,\n",
       " 622,\n",
       " 626,\n",
       " 634,\n",
       " 662,\n",
       " 674,\n",
       " 694,\n",
       " 698,\n",
       " 706,\n",
       " 718,\n",
       " 734,\n",
       " 746,\n",
       " 758,\n",
       " 766,\n",
       " 778,\n",
       " 781,\n",
       " 794,\n",
       " 802,\n",
       " 818,\n",
       " 838,\n",
       " 842,\n",
       " 862,\n",
       " 866,\n",
       " 878,\n",
       " 886,\n",
       " 898,\n",
       " 914,\n",
       " 922,\n",
       " 926,\n",
       " 934,\n",
       " 958,\n",
       " 974,\n",
       " 982,\n",
       " 998,\n",
       " 1006,\n",
       " 1018,\n",
       " 1042,\n",
       " 1046,\n",
       " 1082,\n",
       " 1094,\n",
       " 1114,\n",
       " 1126,\n",
       " 1138,\n",
       " 1142,\n",
       " 1154,\n",
       " 1174,\n",
       " 1186,\n",
       " 1198,\n",
       " 1202,\n",
       " 1214,\n",
       " 1226,\n",
       " 1234,\n",
       " 1238,\n",
       " 1262,\n",
       " 1282,\n",
       " 1286,\n",
       " 1294,\n",
       " 1306,\n",
       " 1318,\n",
       " 1322,\n",
       " 1346,\n",
       " 1354,\n",
       " 1366,\n",
       " 1382,\n",
       " 1402,\n",
       " 1418,\n",
       " 1438,\n",
       " 1454,\n",
       " 1466,\n",
       " 1478,\n",
       " 1486,\n",
       " 1502,\n",
       " 1514,\n",
       " 1522,\n",
       " 1538,\n",
       " 1541,\n",
       " 1546,\n",
       " 1562,\n",
       " 1574,\n",
       " 1594,\n",
       " 1618,\n",
       " 1622,\n",
       " 1642,\n",
       " 1646,\n",
       " 1654,\n",
       " 1658,\n",
       " 1678,\n",
       " 1706,\n",
       " 1714,\n",
       " 1718,\n",
       " 1726,\n",
       " 1754,\n",
       " 1762,\n",
       " 1766,\n",
       " 1774,\n",
       " 1814,\n",
       " 1822,\n",
       " 1838,\n",
       " 1858,\n",
       " 1874,\n",
       " 1882,\n",
       " 1894,\n",
       " 1906,\n",
       " 1934,\n",
       " 1942,\n",
       " 1954,\n",
       " 1966,\n",
       " 1982,\n",
       " 1994,\n",
       " 2018,\n",
       " 2026,\n",
       " 2038,\n",
       " 2042,\n",
       " 2062,\n",
       " 2066,\n",
       " 2078,\n",
       " 2098,\n",
       " 2102,\n",
       " 2122,\n",
       " 2126,\n",
       " 2138,\n",
       " 2174,\n",
       " 2182,\n",
       " 2186,\n",
       " 2194,\n",
       " 2206,\n",
       " 2218,\n",
       " 2234,\n",
       " 2246,\n",
       " 2258,\n",
       " 2302,\n",
       " 2306,\n",
       " 2326,\n",
       " 2342,\n",
       " 2362,\n",
       " 2374,\n",
       " 2386,\n",
       " 2402,\n",
       " 2426,\n",
       " 2434,\n",
       " 2446,\n",
       " 2458,\n",
       " 2462,\n",
       " 2474,\n",
       " 2498,\n",
       " 2518,\n",
       " 2554,\n",
       " 2558,\n",
       " 2566,\n",
       " 2578,\n",
       " 2582,\n",
       " 2594,\n",
       " 2602,\n",
       " 2606,\n",
       " 2614,\n",
       " 2638,\n",
       " 2642,\n",
       " 2654,\n",
       " 2722,\n",
       " 2734,\n",
       " 2746,\n",
       " 2762,\n",
       " 2798,\n",
       " 2818,\n",
       " 2846,\n",
       " 2854,\n",
       " 2858,\n",
       " 2866,\n",
       " 2878,\n",
       " 2894,\n",
       " 2902,\n",
       " 2906,\n",
       " 2918,\n",
       " 2942,\n",
       " 2962,\n",
       " 2966,\n",
       " 2974,\n",
       " 2978,\n",
       " 2986,\n",
       " 2998,\n",
       " 3022,\n",
       " 3046,\n",
       " 3062,\n",
       " 3082,\n",
       " 3086,\n",
       " 3098,\n",
       " 3106,\n",
       " 3118,\n",
       " 3134,\n",
       " 3142,\n",
       " 3158,\n",
       " 3166,\n",
       " 3194,\n",
       " 3202,\n",
       " 3214,\n",
       " 3218,\n",
       " 3226,\n",
       " 3238,\n",
       " 3242,\n",
       " 3254,\n",
       " 3274,\n",
       " 3314,\n",
       " 3326,\n",
       " 3334,\n",
       " 3338,\n",
       " 3386,\n",
       " 3394,\n",
       " 3398,\n",
       " 3418,\n",
       " 3442,\n",
       " 3446,\n",
       " 3466,\n",
       " 3482,\n",
       " 3494,\n",
       " 3506,\n",
       " 3518,\n",
       " 3554,\n",
       " 3566,\n",
       " 3574,\n",
       " 3578,\n",
       " 3602,\n",
       " 3622,\n",
       " 3646,\n",
       " 3662,\n",
       " 3694,\n",
       " 3722,\n",
       " 3734,\n",
       " 3742,\n",
       " 3746,\n",
       " 3754,\n",
       " 3758,\n",
       " 3778,\n",
       " 3802,\n",
       " 3814,\n",
       " 3826,\n",
       " 3862,\n",
       " 3866,\n",
       " 3898,\n",
       " 3902,\n",
       " 3946,\n",
       " 3958,\n",
       " 3974,\n",
       " 3986,\n",
       " 3994,\n",
       " 3998,\n",
       " 4006,\n",
       " 4022,\n",
       " 4034,\n",
       " 4054,\n",
       " 4058,\n",
       " 4078,\n",
       " 4106,\n",
       " 4126,\n",
       " 4138,\n",
       " 4162,\n",
       " 4166,\n",
       " 4174,\n",
       " 4178,\n",
       " 4198,\n",
       " 4222,\n",
       " 4226,\n",
       " 4258,\n",
       " 4262,\n",
       " 4274,\n",
       " 4282,\n",
       " 4286,\n",
       " 4306,\n",
       " 4322,\n",
       " 4358,\n",
       " 4406,\n",
       " 4414,\n",
       " 4426,\n",
       " 4442,\n",
       " 4474,\n",
       " 4478,\n",
       " 4486,\n",
       " 4502,\n",
       " 4534,\n",
       " 4538,\n",
       " 4546,\n",
       " 4562,\n",
       " 4574,\n",
       " 4586,\n",
       " 4594,\n",
       " 4618,\n",
       " 4622,\n",
       " 4666,\n",
       " 4678,\n",
       " 4682,\n",
       " 4694,\n",
       " 4702,\n",
       " 4714,\n",
       " 4742,\n",
       " 4754,\n",
       " 4762,\n",
       " 4766,\n",
       " 4778,\n",
       " 4786,\n",
       " 4798,\n",
       " 4822,\n",
       " 4834,\n",
       " 4846,\n",
       " 4874,\n",
       " 4882,\n",
       " 4894,\n",
       " 4918,\n",
       " 4934,\n",
       " 4946,\n",
       " 4954,\n",
       " 5006,\n",
       " 5042,\n",
       " 5062,\n",
       " 5078,\n",
       " 5086,\n",
       " 5098,\n",
       " 5102,\n",
       " 5114,\n",
       " 5158,\n",
       " 5182,\n",
       " 5186,\n",
       " 5218,\n",
       " 5234,\n",
       " 5242,\n",
       " 5266,\n",
       " 5294,\n",
       " 5314,\n",
       " 5318,\n",
       " 5326,\n",
       " 5342,\n",
       " 5354,\n",
       " 5366,\n",
       " 5374,\n",
       " 5378,\n",
       " 5386,\n",
       " 5398,\n",
       " 5414,\n",
       " 5422,\n",
       " 5426,\n",
       " 5438,\n",
       " 5458,\n",
       " 5461,\n",
       " 5462,\n",
       " 5482,\n",
       " 5498,\n",
       " 5506,\n",
       " 5534,\n",
       " 5554,\n",
       " 5578,\n",
       " 5582,\n",
       " 5594,\n",
       " 5602,\n",
       " 5606,\n",
       " 5611,\n",
       " 5638,\n",
       " 5666,\n",
       " 5674,\n",
       " 5686,\n",
       " 5702,\n",
       " 5714,\n",
       " 5722,\n",
       " 5758,\n",
       " 5774,\n",
       " 5794,\n",
       " 5806,\n",
       " 5818,\n",
       " 5834,\n",
       " 5854,\n",
       " 5878,\n",
       " 5906,\n",
       " 5914,\n",
       " 5926,\n",
       " 5938,\n",
       " 5942,\n",
       " 5998,\n",
       " 6002,\n",
       " 6022,\n",
       " 6038,\n",
       " 6046,\n",
       " 6074,\n",
       " 6082,\n",
       " 6098,\n",
       " 6122,\n",
       " 6134,\n",
       " 6158,\n",
       " 6166,\n",
       " 6178,\n",
       " 6218,\n",
       " 6238,\n",
       " 6242,\n",
       " 6274,\n",
       " 6326,\n",
       " 6334,\n",
       " 6338,\n",
       " 6362,\n",
       " 6374,\n",
       " 6382,\n",
       " 6406,\n",
       " 6418,\n",
       " 6434,\n",
       " 6442,\n",
       " 6458,\n",
       " 6502,\n",
       " 6506,\n",
       " 6514,\n",
       " 6518,\n",
       " 6542,\n",
       " 6598,\n",
       " 6602,\n",
       " 6614,\n",
       " 6626,\n",
       " 6638,\n",
       " 6646,\n",
       " 6658,\n",
       " 6662,\n",
       " 6686,\n",
       " 6694,\n",
       " 6718,\n",
       " 6722,\n",
       " 6742,\n",
       " 6746,\n",
       " 6778,\n",
       " 6782,\n",
       " 6814,\n",
       " 6826,\n",
       " 6866,\n",
       " 6898,\n",
       " 6914,\n",
       " 6922,\n",
       " 6926,\n",
       " 6934,\n",
       " 6938,\n",
       " 6982,\n",
       " 6998,\n",
       " 7022,\n",
       " 7034,\n",
       " 7054,\n",
       " 7058,\n",
       " 7066,\n",
       " 7078,\n",
       " 7082,\n",
       " 7094,\n",
       " 7114,\n",
       " 7118,\n",
       " 7142,\n",
       " 7162,\n",
       " 7166,\n",
       " 7186,\n",
       " 7214,\n",
       " 7226,\n",
       " 7234,\n",
       " 7246,\n",
       " 7262,\n",
       " 7274,\n",
       " 7286,\n",
       " 7318,\n",
       " 7342,\n",
       " 7346,\n",
       " 7354,\n",
       " 7382,\n",
       " 7394,\n",
       " 7402,\n",
       " 7418,\n",
       " 7438,\n",
       " 7454,\n",
       " 7466,\n",
       " 7478,\n",
       " 7522,\n",
       " 7534,\n",
       " 7538,\n",
       " 7558,\n",
       " 7586,\n",
       " 7594,\n",
       " 7606,\n",
       " 7642,\n",
       " 7646,\n",
       " 7666,\n",
       " 7694,\n",
       " 7702,\n",
       " 7706,\n",
       " 7726,\n",
       " 7754,\n",
       " 7762,\n",
       " 7778,\n",
       " 7813,\n",
       " 7814,\n",
       " 7822,\n",
       " 7834,\n",
       " 7838,\n",
       " 7846,\n",
       " 7858,\n",
       " 7862,\n",
       " 7886,\n",
       " 7894,\n",
       " 7934,\n",
       " 7978,\n",
       " 8002,\n",
       " 8006,\n",
       " 8014,\n",
       " 8026,\n",
       " 8038,\n",
       " 8042,\n",
       " 8054,\n",
       " 8098,\n",
       " 8102,\n",
       " 8114,\n",
       " 8146,\n",
       " 8158,\n",
       " 8182,\n",
       " 8186,\n",
       " 8198,\n",
       " 8222,\n",
       " 8254,\n",
       " 8258,\n",
       " 8266,\n",
       " 8278,\n",
       " 8306,\n",
       " 8314,\n",
       " 8318,\n",
       " 8354,\n",
       " 8402,\n",
       " 8422,\n",
       " 8434,\n",
       " 8438,\n",
       " 8458,\n",
       " 8462,\n",
       " 8482,\n",
       " 8486,\n",
       " 8506,\n",
       " 8518,\n",
       " 8522,\n",
       " 8542,\n",
       " 8546,\n",
       " 8566,\n",
       " 8578,\n",
       " 8594,\n",
       " 8654,\n",
       " 8674,\n",
       " 8678,\n",
       " 8698,\n",
       " 8714,\n",
       " 8726,\n",
       " 8746,\n",
       " 8782,\n",
       " 8794,\n",
       " 8818,\n",
       " 8842,\n",
       " 8846,\n",
       " 8882,\n",
       " 8894,\n",
       " 8902,\n",
       " 8914,\n",
       " 8926,\n",
       " 8962,\n",
       " 8966,\n",
       " 8986,\n",
       " 9014,\n",
       " 9026,\n",
       " 9034,\n",
       " 9038,\n",
       " 9046,\n",
       " 9094,\n",
       " 9098,\n",
       " 9122,\n",
       " 9134,\n",
       " 9166,\n",
       " 9182,\n",
       " 9194,\n",
       " 9206,\n",
       " 9242,\n",
       " 9274,\n",
       " 9278,\n",
       " 9286,\n",
       " 9298,\n",
       " 9302,\n",
       " 9314,\n",
       " 9326,\n",
       " 9346,\n",
       " 9358,\n",
       " 9382,\n",
       " 9406,\n",
       " 9442,\n",
       " 9446,\n",
       " 9458,\n",
       " 9466,\n",
       " 9502,\n",
       " 9518,\n",
       " 9566,\n",
       " 9574,\n",
       " 9578,\n",
       " 9586,\n",
       " 9598,\n",
       " 9602,\n",
       " 9626,\n",
       " 9634,\n",
       " 9662,\n",
       " 9722,\n",
       " 9742,\n",
       " 9754,\n",
       " 9778,\n",
       " 9806,\n",
       " 9818,\n",
       " 9838,\n",
       " 9862,\n",
       " 9866,\n",
       " 9874,\n",
       " 9886,\n",
       " 9902,\n",
       " 9914,\n",
       " 9934,\n",
       " 9938,\n",
       " 9946,\n",
       " 9974,\n",
       " 9986,\n",
       " 9998]"
      ]
     },
     "execution_count": 74,
     "metadata": {},
     "output_type": "execute_result"
    }
   ],
   "source": [
    "[k for k in range(5, 10000) if not is_prime(k) and gcd(5, k)==1 and Miller(k, 5)]"
   ]
  },
  {
   "cell_type": "code",
   "execution_count": 72,
   "id": "bb0edda1-b470-4c04-9bd9-0c62230a56cd",
   "metadata": {},
   "outputs": [
    {
     "data": {
      "text/plain": [
       "True"
      ]
     },
     "execution_count": 72,
     "metadata": {},
     "output_type": "execute_result"
    }
   ],
   "source": [
    "Miller(15751, 5)"
   ]
  },
  {
   "cell_type": "code",
   "execution_count": 73,
   "id": "d13eeaea-5dea-41da-a255-531493499a2b",
   "metadata": {},
   "outputs": [
    {
     "data": {
      "text/plain": [
       "19 * 829"
      ]
     },
     "execution_count": 73,
     "metadata": {},
     "output_type": "execute_result"
    }
   ],
   "source": [
    "factor(15751)"
   ]
  },
  {
   "cell_type": "code",
   "execution_count": null,
   "id": "8ff07d59-0b3e-41d6-abf5-e382b7570f79",
   "metadata": {},
   "outputs": [],
   "source": []
  }
 ],
 "metadata": {
  "kernelspec": {
   "display_name": "SageMath 10.4",
   "language": "sage",
   "name": "sagemath-10.4"
  },
  "language_info": {
   "codemirror_mode": {
    "name": "ipython",
    "version": 3
   },
   "file_extension": ".py",
   "mimetype": "text/x-python",
   "name": "python",
   "nbconvert_exporter": "python",
   "pygments_lexer": "ipython3",
   "version": "3.12.4"
  }
 },
 "nbformat": 4,
 "nbformat_minor": 5
}
