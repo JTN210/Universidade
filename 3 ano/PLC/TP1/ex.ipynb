{
 "cells": [
  {
   "cell_type": "code",
   "execution_count": null,
   "id": "17679f0b",
   "metadata": {},
   "outputs": [],
   "source": [
    "\n",
    "import csv\n",
    "def n_linhas():\n",
    "    res = 0\n",
    "    with open('alunos.csv', mode ='r')as file:\n",
    "        ficheiro = csv.reader(file)\n",
    "        for linha in ficheiro:\n",
    "            res += 1\n",
    "            print(linha)\n",
    "    return res\n",
    "n_linhas()\n",
    "    "
   ]
  },
  {
   "cell_type": "code",
   "execution_count": null,
   "id": "4e2ab87e",
   "metadata": {},
   "outputs": [
    {
     "name": "stdout",
     "output_type": "stream",
     "text": [
      "{'id_aluno': {'nome': 'nome', 'curso': 'curso', 'notas': ['tpc1', 'tpc2', 'tpc3', 'tpc4']}, 'a1': {'nome': 'Aysha Melanie Gilberto', 'curso': 'LEI', 'notas': ['12', '8', '19', '8']}, 'a2': {'nome': 'Igor André Cantanhede', 'curso': 'ENGFIS', 'notas': ['12', '16', '18', '20']}, 'a3': {'nome': 'Laurénio Narciso', 'curso': 'ENGFIS', 'notas': ['8', '14', '15', '14']}, 'a4': {'nome': 'Jasnoor Casegas', 'curso': 'LCC', 'notas': ['14', '20', '17', '11']}, 'a5': {'nome': 'Tawseef Rebouças', 'curso': 'ENGBIOM', 'notas': ['13', '14', '13', '17']}, 'a6': {'nome': 'Eryk Clementino', 'curso': 'LEI', 'notas': ['10', '19', '11', '14']}, 'a7': {'nome': 'Ianna Noivo', 'curso': 'ENGBIOM', 'notas': ['15', '15', '17', '16']}, 'a8': {'nome': 'Ayla Thaissa Reina', 'curso': 'ENGBIOM', 'notas': ['12', '8', '8', '18']}, 'a9': {'nome': 'Cássia Viviane Coitã', 'curso': 'ENGFIS', 'notas': ['19', '9', '14', '10']}, 'a10': {'nome': 'Koby Vindima', 'curso': 'LEI', 'notas': ['9', '14', '20', '13']}, 'a11': {'nome': 'Gustavo Martim Hernandez', 'curso': 'ENGBIOM', 'notas': ['11', '8', '14', '11']}, 'a12': {'nome': 'Siddarta Beiriz', 'curso': 'LEI', 'notas': ['17', '10', '16', '16']}, 'a13': {'nome': 'Daniela Patrícia Montes', 'curso': 'ENGBIOM', 'notas': ['15', '15', '18', '19']}, 'a14': {'nome': 'Kaylla Pessego', 'curso': 'LCC', 'notas': ['10', '14', '17', '15']}, 'a15': {'nome': 'Bianca Cristina Primitivo', 'curso': 'ENGBIOM', 'notas': ['16', '9', '18', '10']}, 'a16': {'nome': 'Magna Galhardo', 'curso': 'ENGFIS', 'notas': ['20', '18', '9', '14']}, 'a17': {'nome': 'Grace Isabel Patriarca', 'curso': 'LCC', 'notas': ['19', '13', '9', '10']}, 'a18': {'nome': 'Saubhagya Buco', 'curso': 'LEI', 'notas': ['18', '18', '17', '8']}, 'a19': {'nome': 'Ivo Vicente Boisa', 'curso': 'ENGBIOM', 'notas': ['14', '10', '18', '13']}, 'a20': {'nome': 'Vivaan Castilhos', 'curso': 'ENGFIS', 'notas': ['15', '14', '11', '12']}, 'a21': {'nome': 'Layana Camejo', 'curso': 'ENGFIS', 'notas': ['17', '12', '10', '20']}, 'a22': {'nome': 'Mahdi Menoita', 'curso': 'ENGFIS', 'notas': ['11', '16', '8', '16']}, 'a23': {'nome': 'Yifan Cortinado', 'curso': 'LEI', 'notas': ['19', '16', '8', '18']}, 'a24': {'nome': 'Éder Sodré', 'curso': 'ENGFIS', 'notas': ['17', '13', '14', '12']}, 'a25': {'nome': 'Dhriti Magano', 'curso': 'ENGFIS', 'notas': ['19', '11', '8', '19']}, 'a26': {'nome': 'Steve Devesa', 'curso': 'ENGBIOM', 'notas': ['10', '16', '8', '13']}, 'a27': {'nome': 'Lisandro Mariano Picassinos', 'curso': 'ENGFIS', 'notas': ['13', '10', '16', '10']}, 'a28': {'nome': 'Itiel Quinoy', 'curso': 'LEI', 'notas': ['18', '18', '8', '9']}, 'a29': {'nome': 'Pranika Reimoo', 'curso': 'LEI', 'notas': ['12', '16', '15', '13']}, 'a30': {'nome': 'Manaia Viseu', 'curso': 'ENGFIS', 'notas': ['8', '12', '20', '11']}, 'a31': {'nome': 'Eva Manuel Caio', 'curso': 'ENGFIS', 'notas': ['12', '16', '20', '16']}, 'a32': {'nome': 'Ariane Sofia Foja', 'curso': 'LEI', 'notas': ['20', '19', '13', '18']}, 'a33': {'nome': 'Jaime António Pauseiro', 'curso': 'LCC', 'notas': ['19', '13', '8', '10']}, 'a34': {'nome': 'Tanisha Marzagoo', 'curso': 'ENGBIOM', 'notas': ['14', '19', '13', '14']}, 'a35': {'nome': 'Siyon Anca', 'curso': 'LEI', 'notas': ['8', '13', '19', '15']}, 'a36': {'nome': 'Diana Beatriz Boavista', 'curso': 'LCC', 'notas': ['19', '18', '17', '12']}, 'a37': {'nome': 'Elisiário Saberio', 'curso': 'ENGFIS', 'notas': ['18', '18', '10', '19']}, 'a38': {'nome': 'Maira Brites', 'curso': 'ENGFIS', 'notas': ['13', '16', '15', '17']}, 'a39': {'nome': 'Victória Gabriela Incenso', 'curso': 'LEI', 'notas': ['17', '14', '13', '8']}, 'a40': {'nome': 'Najua Serôdio', 'curso': 'LCC', 'notas': ['17', '9', '16', '18']}, 'a41': {'nome': 'Lachezar Rosas', 'curso': 'ENGBIOM', 'notas': ['16', '18', '18', '15']}, 'a42': {'nome': 'Kattleya Trigueiro', 'curso': 'ENGFIS', 'notas': ['19', '16', '14', '15']}, 'a43': {'nome': 'Tatiana Guiomar Maricoto', 'curso': 'LCC', 'notas': ['19', '8', '15', '11']}, 'a44': {'nome': 'Mélanie Daniela Bugalhão', 'curso': 'LCC', 'notas': ['17', '9', '17', '18']}, 'a45': {'nome': 'Imayame Hespanha', 'curso': 'ENGFIS', 'notas': ['20', '17', '19', '11']}, 'a46': {'nome': 'Yuri Gabriel Baganha', 'curso': 'LCC', 'notas': ['15', '18', '12', '16']}, 'a47': {'nome': 'Moisés João Cornelio', 'curso': 'LEI', 'notas': ['20', '16', '19', '17']}, 'a48': {'nome': 'Nazir Assif Trinta', 'curso': 'LEI', 'notas': ['14', '14', '12', '8']}, 'a49': {'nome': 'Karamjot Arezes', 'curso': 'LEI', 'notas': ['10', '9', '20', '12']}, 'a50': {'nome': 'Rishit Justa', 'curso': 'ENGBIOM', 'notas': ['9', '9', '9', '12']}, 'a51': {'nome': 'Iara de Jesus Gonçalo', 'curso': 'ENGFIS', 'notas': ['14', '8', '12', '14']}, 'a52': {'nome': 'Stepfan Owusu Lercas', 'curso': 'LEI', 'notas': ['18', '9', '16', '14']}, 'a53': {'nome': 'Abner Umbelina', 'curso': 'ENGBIOM', 'notas': ['20', '16', '10', '13']}, 'a54': {'nome': 'Dânia Lucy Montelobo', 'curso': 'LEI', 'notas': ['18', '19', '15', '11']}, 'a55': {'nome': 'Myla Lopez', 'curso': 'ENGFIS', 'notas': ['9', '17', '12', '20']}, 'a56': {'nome': 'Hakeem Brazão', 'curso': 'LEI', 'notas': ['18', '18', '13', '20']}, 'a57': {'nome': 'Quinn Aveiro', 'curso': 'ENGBIOM', 'notas': ['17', '16', '9', '13']}, 'a58': {'nome': 'Etienne Constentino', 'curso': 'ENGBIOM', 'notas': ['15', '8', '9', '13']}, 'a59': {'nome': 'Emanuel Marcos Delfina', 'curso': 'LEI', 'notas': ['9', '15', '8', '13']}, 'a60': {'nome': 'Mariana Catarina Ramalheira', 'curso': 'ENGBIOM', 'notas': ['17', '19', '19', '11']}, 'a61': {'nome': 'Bradley Tabau', 'curso': 'LCC', 'notas': ['16', '19', '16', '12']}, 'a62': {'nome': 'Ahmadou Bamba Calcinha', 'curso': 'LCC', 'notas': ['13', '20', '8', '16']}, 'a63': {'nome': 'Francisco Pedro Derresa', 'curso': 'ENGFIS', 'notas': ['8', '12', '20', '18']}, 'a64': {'nome': 'Gil Miguel Lima', 'curso': 'ENGBIOM', 'notas': ['16', '19', '8', '14']}, 'a65': {'nome': 'Leonor Pedro Carqueijeiro', 'curso': 'ENGBIOM', 'notas': ['19', '11', '17', '8']}, 'a66': {'nome': 'Genrikh Maximovich Vila-Chã', 'curso': 'ENGFIS', 'notas': ['12', '15', '13', '9']}, 'a67': {'nome': 'Mayra Larissa Rolo', 'curso': 'LCC', 'notas': ['15', '14', '17', '12']}, 'a68': {'nome': 'Leandro David Dunhoo', 'curso': 'ENGBIOM', 'notas': ['15', '14', '11', '15']}, 'a69': {'nome': 'Adele Belchior', 'curso': 'ENGBIOM', 'notas': ['17', '12', '20', '12']}, 'a70': {'nome': 'Frantceska Borreca', 'curso': 'ENGFIS', 'notas': ['18', '11', '19', '8']}, 'a71': {'nome': 'Derrick Urias', 'curso': 'ENGFIS', 'notas': ['11', '10', '8', '14']}, 'a72': {'nome': 'Ana Gabriel Quirino', 'curso': 'LCC', 'notas': ['10', '17', '8', '19']}, 'a73': {'nome': 'Carolina Antoo', 'curso': 'ENGBIOM', 'notas': ['16', '19', '20', '10']}, 'a74': {'nome': 'Vânia Sofia Porfirio', 'curso': 'ENGBIOM', 'notas': ['18', '19', '18', '15']}, 'a75': {'nome': 'Dárcio Wosvaldo Tudela', 'curso': 'LEI', 'notas': ['8', '18', '9', '18']}, 'a76': {'nome': 'Zhara Couxão', 'curso': 'ENGFIS', 'notas': ['16', '10', '14', '12']}, 'a77': {'nome': 'Tomé Ferrito', 'curso': 'LCC', 'notas': ['14', '10', '15', '19']}, 'a78': {'nome': 'Iasmin Paloma Chaveiro', 'curso': 'LCC', 'notas': ['8', '15', '19', '9']}, 'a79': {'nome': 'Sadagi Cruto', 'curso': 'ENGBIOM', 'notas': ['13', '18', '14', '18']}, 'a80': {'nome': 'Maria Carolina Josué', 'curso': 'ENGFIS', 'notas': ['17', '20', '17', '18']}, 'a81': {'nome': 'Quaresma Lancastre', 'curso': 'ENGBIOM', 'notas': ['17', '9', '16', '19']}, 'a82': {'nome': 'Evaldir Gervasio', 'curso': 'ENGFIS', 'notas': ['16', '19', '15', '8']}, 'a83': {'nome': 'Dolorinda Adolfo', 'curso': 'ENGFIS', 'notas': ['11', '20', '16', '8']}, 'a84': {'nome': 'Laudário Frasão', 'curso': 'LCC', 'notas': ['20', '19', '10', '19']}, 'a85': {'nome': 'Rómula Jeronimo', 'curso': 'ENGFIS', 'notas': ['10', '13', '12', '11']}, 'a86': {'nome': 'Clésio Rodeiro', 'curso': 'LCC', 'notas': ['9', '13', '12', '18']}, 'a87': {'nome': 'Feliciano José Avis', 'curso': 'ENGFIS', 'notas': ['9', '11', '10', '9']}, 'a88': {'nome': 'Afonso Adriano Marca', 'curso': 'ENGBIOM', 'notas': ['8', '16', '12', '15']}, 'a89': {'nome': 'Victória Miguel Rosete', 'curso': 'ENGFIS', 'notas': ['8', '13', '13', '18']}, 'a90': {'nome': 'Tome Teroso', 'curso': 'ENGFIS', 'notas': ['9', '9', '10', '17']}, 'a91': {'nome': 'Constança Filipa Melado', 'curso': 'LEI', 'notas': ['10', '12', '8', '20']}, 'a92': {'nome': 'Madalena Jesus Alfaiate', 'curso': 'LEI', 'notas': ['17', '14', '9', '17']}, 'a93': {'nome': 'Bivhan Reimbau', 'curso': 'LCC', 'notas': ['17', '11', '8', '12']}, 'a94': {'nome': 'Viviana Sofia Gaspar', 'curso': 'ENGBIOM', 'notas': ['16', '16', '20', '14']}, 'a95': {'nome': 'Íris Soraia Chiote', 'curso': 'LEI', 'notas': ['11', '11', '17', '16']}, 'a96': {'nome': 'Anaïs Sintra', 'curso': 'LCC', 'notas': ['19', '19', '12', '9']}, 'a97': {'nome': 'Salvador Banaca', 'curso': 'LCC', 'notas': ['12', '9', '20', '12']}, 'a98': {'nome': 'Guilherme Matias Almeirão', 'curso': 'ENGFIS', 'notas': ['14', '9', '12', '11']}, 'a99': {'nome': 'Xavier Luís Bulha', 'curso': 'ENGFIS', 'notas': ['17', '13', '8', '10']}, 'a100': {'nome': 'Tude Searas', 'curso': 'LEI', 'notas': ['20', '17', '8', '14']}}\n"
     ]
    }
   ],
   "source": [
    "#Escrita e leitura de csv\n",
    "import csv\n",
    "with open('alunos.csv', mode ='r')as file:\n",
    "    ficheiro = csv.reader(file)\n",
    "    alunos = list(ficheiro)\n",
    "        \n",
    "dicionario_alunos = {}\n",
    "for aluno in alunos:\n",
    "    dicionario_alunos[aluno[0]] = {\"nome\": aluno[1],\"curso\":aluno[2],\"notas\":aluno[3:]}\n",
    "\n",
    "print (dicionario_alunos['a20'])"
   ]
  },
  {
   "cell_type": "code",
   "execution_count": null,
   "id": "3ed33188",
   "metadata": {},
   "outputs": [
    {
     "name": "stdout",
     "output_type": "stream",
     "text": [
      "{'a1': {'nome': 'Aysha Melanie Gilberto', 'curso': 'LEI', 'notas': 11.75}, 'a2': {'nome': 'Igor André Cantanhede', 'curso': 'ENGFIS', 'notas': 16.5}, 'a3': {'nome': 'Laurénio Narciso', 'curso': 'ENGFIS', 'notas': 12.75}, 'a4': {'nome': 'Jasnoor Casegas', 'curso': 'LCC', 'notas': 15.5}, 'a5': {'nome': 'Tawseef Rebouças', 'curso': 'ENGBIOM', 'notas': 14.25}, 'a6': {'nome': 'Eryk Clementino', 'curso': 'LEI', 'notas': 13.5}, 'a7': {'nome': 'Ianna Noivo', 'curso': 'ENGBIOM', 'notas': 15.75}, 'a8': {'nome': 'Ayla Thaissa Reina', 'curso': 'ENGBIOM', 'notas': 11.5}, 'a9': {'nome': 'Cássia Viviane Coitã', 'curso': 'ENGFIS', 'notas': 13.0}, 'a10': {'nome': 'Koby Vindima', 'curso': 'LEI', 'notas': 14.0}, 'a11': {'nome': 'Gustavo Martim Hernandez', 'curso': 'ENGBIOM', 'notas': 11.0}, 'a12': {'nome': 'Siddarta Beiriz', 'curso': 'LEI', 'notas': 14.75}, 'a13': {'nome': 'Daniela Patrícia Montes', 'curso': 'ENGBIOM', 'notas': 16.75}, 'a14': {'nome': 'Kaylla Pessego', 'curso': 'LCC', 'notas': 14.0}, 'a15': {'nome': 'Bianca Cristina Primitivo', 'curso': 'ENGBIOM', 'notas': 13.25}, 'a16': {'nome': 'Magna Galhardo', 'curso': 'ENGFIS', 'notas': 15.25}, 'a17': {'nome': 'Grace Isabel Patriarca', 'curso': 'LCC', 'notas': 12.75}, 'a18': {'nome': 'Saubhagya Buco', 'curso': 'LEI', 'notas': 15.25}, 'a19': {'nome': 'Ivo Vicente Boisa', 'curso': 'ENGBIOM', 'notas': 13.75}, 'a20': {'nome': 'Vivaan Castilhos', 'curso': 'ENGFIS', 'notas': 13.0}, 'a21': {'nome': 'Layana Camejo', 'curso': 'ENGFIS', 'notas': 14.75}, 'a22': {'nome': 'Mahdi Menoita', 'curso': 'ENGFIS', 'notas': 12.75}, 'a23': {'nome': 'Yifan Cortinado', 'curso': 'LEI', 'notas': 15.25}, 'a24': {'nome': 'Éder Sodré', 'curso': 'ENGFIS', 'notas': 14.0}, 'a25': {'nome': 'Dhriti Magano', 'curso': 'ENGFIS', 'notas': 14.25}, 'a26': {'nome': 'Steve Devesa', 'curso': 'ENGBIOM', 'notas': 11.75}, 'a27': {'nome': 'Lisandro Mariano Picassinos', 'curso': 'ENGFIS', 'notas': 12.25}, 'a28': {'nome': 'Itiel Quinoy', 'curso': 'LEI', 'notas': 13.25}, 'a29': {'nome': 'Pranika Reimoo', 'curso': 'LEI', 'notas': 14.0}, 'a30': {'nome': 'Manaia Viseu', 'curso': 'ENGFIS', 'notas': 12.75}, 'a31': {'nome': 'Eva Manuel Caio', 'curso': 'ENGFIS', 'notas': 16.0}, 'a32': {'nome': 'Ariane Sofia Foja', 'curso': 'LEI', 'notas': 17.5}, 'a33': {'nome': 'Jaime António Pauseiro', 'curso': 'LCC', 'notas': 12.5}, 'a34': {'nome': 'Tanisha Marzagoo', 'curso': 'ENGBIOM', 'notas': 15.0}, 'a35': {'nome': 'Siyon Anca', 'curso': 'LEI', 'notas': 13.75}, 'a36': {'nome': 'Diana Beatriz Boavista', 'curso': 'LCC', 'notas': 16.5}, 'a37': {'nome': 'Elisiário Saberio', 'curso': 'ENGFIS', 'notas': 16.25}, 'a38': {'nome': 'Maira Brites', 'curso': 'ENGFIS', 'notas': 15.25}, 'a39': {'nome': 'Victória Gabriela Incenso', 'curso': 'LEI', 'notas': 13.0}, 'a40': {'nome': 'Najua Serôdio', 'curso': 'LCC', 'notas': 15.0}, 'a41': {'nome': 'Lachezar Rosas', 'curso': 'ENGBIOM', 'notas': 16.75}, 'a42': {'nome': 'Kattleya Trigueiro', 'curso': 'ENGFIS', 'notas': 16.0}, 'a43': {'nome': 'Tatiana Guiomar Maricoto', 'curso': 'LCC', 'notas': 13.25}, 'a44': {'nome': 'Mélanie Daniela Bugalhão', 'curso': 'LCC', 'notas': 15.25}, 'a45': {'nome': 'Imayame Hespanha', 'curso': 'ENGFIS', 'notas': 16.75}, 'a46': {'nome': 'Yuri Gabriel Baganha', 'curso': 'LCC', 'notas': 15.25}, 'a47': {'nome': 'Moisés João Cornelio', 'curso': 'LEI', 'notas': 18.0}, 'a48': {'nome': 'Nazir Assif Trinta', 'curso': 'LEI', 'notas': 12.0}, 'a49': {'nome': 'Karamjot Arezes', 'curso': 'LEI', 'notas': 12.75}, 'a50': {'nome': 'Rishit Justa', 'curso': 'ENGBIOM', 'notas': 9.75}, 'a51': {'nome': 'Iara de Jesus Gonçalo', 'curso': 'ENGFIS', 'notas': 12.0}, 'a52': {'nome': 'Stepfan Owusu Lercas', 'curso': 'LEI', 'notas': 14.25}, 'a53': {'nome': 'Abner Umbelina', 'curso': 'ENGBIOM', 'notas': 14.75}, 'a54': {'nome': 'Dânia Lucy Montelobo', 'curso': 'LEI', 'notas': 15.75}, 'a55': {'nome': 'Myla Lopez', 'curso': 'ENGFIS', 'notas': 14.5}, 'a56': {'nome': 'Hakeem Brazão', 'curso': 'LEI', 'notas': 17.25}, 'a57': {'nome': 'Quinn Aveiro', 'curso': 'ENGBIOM', 'notas': 13.75}, 'a58': {'nome': 'Etienne Constentino', 'curso': 'ENGBIOM', 'notas': 11.25}, 'a59': {'nome': 'Emanuel Marcos Delfina', 'curso': 'LEI', 'notas': 11.25}, 'a60': {'nome': 'Mariana Catarina Ramalheira', 'curso': 'ENGBIOM', 'notas': 16.5}, 'a61': {'nome': 'Bradley Tabau', 'curso': 'LCC', 'notas': 15.75}, 'a62': {'nome': 'Ahmadou Bamba Calcinha', 'curso': 'LCC', 'notas': 14.25}, 'a63': {'nome': 'Francisco Pedro Derresa', 'curso': 'ENGFIS', 'notas': 14.5}, 'a64': {'nome': 'Gil Miguel Lima', 'curso': 'ENGBIOM', 'notas': 14.25}, 'a65': {'nome': 'Leonor Pedro Carqueijeiro', 'curso': 'ENGBIOM', 'notas': 13.75}, 'a66': {'nome': 'Genrikh Maximovich Vila-Chã', 'curso': 'ENGFIS', 'notas': 12.25}, 'a67': {'nome': 'Mayra Larissa Rolo', 'curso': 'LCC', 'notas': 14.5}, 'a68': {'nome': 'Leandro David Dunhoo', 'curso': 'ENGBIOM', 'notas': 13.75}, 'a69': {'nome': 'Adele Belchior', 'curso': 'ENGBIOM', 'notas': 15.25}, 'a70': {'nome': 'Frantceska Borreca', 'curso': 'ENGFIS', 'notas': 14.0}, 'a71': {'nome': 'Derrick Urias', 'curso': 'ENGFIS', 'notas': 10.75}, 'a72': {'nome': 'Ana Gabriel Quirino', 'curso': 'LCC', 'notas': 13.5}, 'a73': {'nome': 'Carolina Antoo', 'curso': 'ENGBIOM', 'notas': 16.25}, 'a74': {'nome': 'Vânia Sofia Porfirio', 'curso': 'ENGBIOM', 'notas': 17.5}, 'a75': {'nome': 'Dárcio Wosvaldo Tudela', 'curso': 'LEI', 'notas': 13.25}, 'a76': {'nome': 'Zhara Couxão', 'curso': 'ENGFIS', 'notas': 13.0}, 'a77': {'nome': 'Tomé Ferrito', 'curso': 'LCC', 'notas': 14.5}, 'a78': {'nome': 'Iasmin Paloma Chaveiro', 'curso': 'LCC', 'notas': 12.75}, 'a79': {'nome': 'Sadagi Cruto', 'curso': 'ENGBIOM', 'notas': 15.75}, 'a80': {'nome': 'Maria Carolina Josué', 'curso': 'ENGFIS', 'notas': 18.0}, 'a81': {'nome': 'Quaresma Lancastre', 'curso': 'ENGBIOM', 'notas': 15.25}, 'a82': {'nome': 'Evaldir Gervasio', 'curso': 'ENGFIS', 'notas': 14.5}, 'a83': {'nome': 'Dolorinda Adolfo', 'curso': 'ENGFIS', 'notas': 13.75}, 'a84': {'nome': 'Laudário Frasão', 'curso': 'LCC', 'notas': 17.0}, 'a85': {'nome': 'Rómula Jeronimo', 'curso': 'ENGFIS', 'notas': 11.5}, 'a86': {'nome': 'Clésio Rodeiro', 'curso': 'LCC', 'notas': 13.0}, 'a87': {'nome': 'Feliciano José Avis', 'curso': 'ENGFIS', 'notas': 9.75}, 'a88': {'nome': 'Afonso Adriano Marca', 'curso': 'ENGBIOM', 'notas': 12.75}, 'a89': {'nome': 'Victória Miguel Rosete', 'curso': 'ENGFIS', 'notas': 13.0}, 'a90': {'nome': 'Tome Teroso', 'curso': 'ENGFIS', 'notas': 11.25}, 'a91': {'nome': 'Constança Filipa Melado', 'curso': 'LEI', 'notas': 12.5}, 'a92': {'nome': 'Madalena Jesus Alfaiate', 'curso': 'LEI', 'notas': 14.25}, 'a93': {'nome': 'Bivhan Reimbau', 'curso': 'LCC', 'notas': 12.0}, 'a94': {'nome': 'Viviana Sofia Gaspar', 'curso': 'ENGBIOM', 'notas': 16.5}, 'a95': {'nome': 'Íris Soraia Chiote', 'curso': 'LEI', 'notas': 13.75}, 'a96': {'nome': 'Anaïs Sintra', 'curso': 'LCC', 'notas': 14.75}, 'a97': {'nome': 'Salvador Banaca', 'curso': 'LCC', 'notas': 13.25}, 'a98': {'nome': 'Guilherme Matias Almeirão', 'curso': 'ENGFIS', 'notas': 11.5}, 'a99': {'nome': 'Xavier Luís Bulha', 'curso': 'ENGFIS', 'notas': 12.0}, 'a100': {'nome': 'Tude Searas', 'curso': 'LEI', 'notas': 14.75}}\n"
     ]
    }
   ],
   "source": [
    "\n",
    "#Escrita e leitura de csv\n",
    "import csv\n",
    "with open('alunos.csv', mode ='r')as file:\n",
    "    ficheiro = csv.reader(file)\n",
    "    next(ficheiro) # next para saltar a primeira iteração do ficheiro porque a primeira é de teste\n",
    "    alunos = list(ficheiro)\n",
    "        \n",
    "dicionario_alunos = {}\n",
    "for aluno in alunos:\n",
    "    dicionario_alunos[aluno[0]] = {\"nome\": aluno[1],\"curso\":aluno[2],\"notas\":list(map(int,aluno[3:]))}\n",
    "\n",
    "for aluno in dicionario_alunos:\n",
    "    dicionario_alunos[aluno][\"notas\"] = (sum(dicionario_alunos[aluno][\"notas\"])/4)\n",
    "\n",
    "## falta criar a lista com os ids que têm maior media\n",
    "    \n",
    "\n",
    "     "
   ]
  },
  {
   "cell_type": "code",
   "execution_count": null,
   "id": "8431a9eb",
   "metadata": {},
   "outputs": [],
   "source": [
    "#Escrita e leitura de csv\n",
    "import csv\n",
    "with open('alunos.csv', mode ='r')as file:\n",
    "    ficheiro = csv.reader(file)\n",
    "    for linha in ficheiro:\n",
    "        print(linha)\n",
    "\n",
    "# Escrita e leitura de json\n",
    "import json\n",
    "f=open(\"cinema.json\",\"r\")\n",
    "dados =json.load(f) \n",
    "for i in dados:\n",
    "    print(i)"
   ]
  },
  {
   "cell_type": "markdown",
   "id": "a19577b3",
   "metadata": {},
   "source": [
    "**1**\n",
    "Partindo do dataset [alunos.csv](https://epl.di.uminho.pt/~jcr/AULAS/ATP2021/datasets/alunos.csv) :\n",
    "1. Leia e imprima todas as entradas do ficheiro csv\n",
    "2. Crie uma função que verifique quantas linhas tem o ficheiro\n",
    "3. Crie um dicionário para albergar todas as informações relativas a um aluno com o formato:\n",
    "{\n",
    "id_aluno : (\n",
    "notas:[TPC1,TPC,TPC3,TPC4],\n",
    "nome:\"NOME\",\n",
    "curso:\"CURSO\"\n",
    ")\n",
    "}\n",
    "\n",
    "  3.1 Quais os alunos com melhor média ?\n",
    "\n",
    "  3.2 Quantos alunos de LEI tem a média dos tpcs superior a 15?\n",
    "\n",
    "**2**\n",
    "Partindo do dataset [cinema.json](https://epl.di.uminho.pt/~jcr/AULAS/ATP2021/datasets/cinemaATP.json) :\n",
    "1. Carregue a informação presente no dataset para uma estrutura à sua escolha\n",
    "2. Crie diferentes funções de maneira a que seja possível\n",
    "  1. Consultar um filme na base de dados: a partir do id ou a partir do título, por exemplo \"Todos os filmes com a palavra office no título;\n",
    "  2. Listar todos os filmes por ordem alfabética de título;\n",
    "  3. Listar todos os filmes de um determinado género;\n",
    "  4. Listar todos os filmes de um determinado ator;\n",
    "  5. Produzir os seguintes indicadores estatísticos:\n",
    "     1. Quantos filmes existem na BD?\n",
    "     2. Qual a distribuição dos filmes por género?\n",
    "     3. Qual a distribuição de filmes por ator (apenas o top10)?\n"
   ]
  }
 ],
 "metadata": {
  "kernelspec": {
   "display_name": "jupyter312",
   "language": "python",
   "name": "python3"
  },
  "language_info": {
   "codemirror_mode": {
    "name": "ipython",
    "version": 3
   },
   "file_extension": ".py",
   "mimetype": "text/x-python",
   "name": "python",
   "nbconvert_exporter": "python",
   "pygments_lexer": "ipython3",
   "version": "3.12.3"
  }
 },
 "nbformat": 4,
 "nbformat_minor": 5
}
