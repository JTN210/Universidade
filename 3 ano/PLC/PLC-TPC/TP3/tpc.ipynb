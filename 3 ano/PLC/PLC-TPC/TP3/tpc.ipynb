{
 "cells": [
  {
   "cell_type": "markdown",
   "id": "872fb72b",
   "metadata": {},
   "source": [
    "# TPC Analisador Léxico\n",
    "\n",
    "### Enunciado:\n",
    "##### Construir um analisador léxico para uma linguagem de query com a qual se podem escrever frases do género:\n",
    "\n"
   ]
  },
  {
   "cell_type": "code",
   "execution_count": null,
   "id": "6227f905",
   "metadata": {},
   "outputs": [],
   "source": [
    "\"\"\"\n",
    "# DBPedia: obras de Chuck Berry\n",
    "select ?nome ?desc where {\n",
    "    ?s a dbo:MusicalArtist.\n",
    "    ?s foaf:name \"Chuck Berry\"@en .\n",
    "    ?w dbo:artist ?s.\n",
    "    ?w foaf:name ?nome.\n",
    "    ?w dbo:abstract ?desc\n",
    "} LIMIT 1000 \n",
    "\"\"\""
   ]
  },
  {
   "cell_type": "code",
   "execution_count": 12,
   "id": "67ddd021",
   "metadata": {},
   "outputs": [],
   "source": [
    "tokens = [\n",
    "        ('NEWLINE',r\"\\n\"),\n",
    "        ('COMMENT', r\"#.*\"),\n",
    "        ('STRING', r'\"[^\"]*\"'),\n",
    "        ('SELECT', r\"\\bselect\\b\"),\n",
    "        ('WHERE', r\"\\bwhere\\b\"),\n",
    "        ('LIMIT', r\"\\bLIMIT\\b\"),\n",
    "        ('VAR', r\"\\?[A-Za-z_][A-Za-z0-9]*\"),\n",
    "        ('PREFIX', r\"[A-Za-z_][A-Za-z0-9_]*:[A-Za-z_][A-Za-z0-9_]*\"),\n",
    "        ('IDIOMA', r\"@[a-zA-Z\\-]+\"),\n",
    "        ('A', r\"\\ba\\b\"),\n",
    "        ('LBRACE', r\"\\{\"),\n",
    "        ('RBRACE', r\"\\}\"),\n",
    "        ('PONTO', r\"\\.\"),\n",
    "        (\"SEMI\", r\";\"),\n",
    "        ('NUM', r\"[0-9]+\"),\n",
    "        ('SKIP', r\"[ \\t\\r]+\"),\n",
    "        ('ERROR', r\".\")\n",
    "    ]"
   ]
  },
  {
   "cell_type": "code",
   "execution_count": 13,
   "id": "029dfc35",
   "metadata": {},
   "outputs": [],
   "source": [
    "import re\n",
    "\n",
    "regex = re.compile(\"|\".join(f\"(?P<{n}>{p})\" for n,p in tokens),\n",
    "                flags=re.UNICODE|re.IGNORECASE)\n",
    "\n",
    "def analisador(texto):\n",
    "    reconhecidos = []\n",
    "    linha = 1\n",
    "    for m in regex.finditer(texto):\n",
    "        tipo = m.lastgroup\n",
    "        lex  = m.group()\n",
    "\n",
    "        # gestão de linhas/ignorar espaços/comentários\n",
    "        if tipo == \"NEWLINE\":\n",
    "            linha += 1\n",
    "            continue\n",
    "        if tipo in (\"SKIP\", \"COMMENT\"):\n",
    "            continue\n",
    "\n",
    "        reconhecidos.append((tipo, lex, linha, m.span()))\n",
    "    return reconhecidos\n"
   ]
  },
  {
   "cell_type": "code",
   "execution_count": 14,
   "id": "e1ec6836",
   "metadata": {},
   "outputs": [
    {
     "name": "stdout",
     "output_type": "stream",
     "text": [
      "('SELECT', 'select', 3, (33, 39))\n",
      "('VAR', '?nome', 3, (40, 45))\n",
      "('VAR', '?desc', 3, (46, 51))\n",
      "('WHERE', 'where', 3, (52, 57))\n",
      "('LBRACE', '{', 3, (58, 59))\n",
      "('VAR', '?s', 4, (62, 64))\n",
      "('A', 'a', 4, (65, 66))\n",
      "('PREFIX', 'dbo:MusicalArtist', 4, (67, 84))\n",
      "('PONTO', '.', 4, (85, 86))\n",
      "('VAR', '?s', 5, (89, 91))\n",
      "('PREFIX', 'foaf:name', 5, (92, 101))\n",
      "('STRING', '\"Chuck Berry\"', 5, (102, 115))\n",
      "('IDIOMA', '@en', 5, (115, 118))\n",
      "('PONTO', '.', 5, (119, 120))\n",
      "('VAR', '?w', 6, (123, 125))\n",
      "('PREFIX', 'dbo:artist', 6, (126, 136))\n",
      "('VAR', '?s', 6, (137, 139))\n",
      "('PONTO', '.', 6, (140, 141))\n",
      "('VAR', '?w', 7, (144, 146))\n",
      "('PREFIX', 'foaf:name', 7, (147, 156))\n",
      "('VAR', '?nome', 7, (157, 162))\n",
      "('PONTO', '.', 7, (163, 164))\n",
      "('VAR', '?w', 8, (167, 169))\n",
      "('PREFIX', 'dbo:abstract', 8, (170, 182))\n",
      "('VAR', '?desc', 8, (183, 188))\n",
      "('RBRACE', '}', 9, (189, 190))\n",
      "('LIMIT', 'limit', 9, (191, 196))\n",
      "('NUM', '1000', 9, (197, 201))\n"
     ]
    }
   ],
   "source": [
    "exemplo = '''\n",
    "# DBPedia: obras de Chuck Berry\n",
    "select ?nome ?desc where {\n",
    "  ?s a dbo:MusicalArtist .\n",
    "  ?s foaf:name \"Chuck Berry\"@en .\n",
    "  ?w dbo:artist ?s .\n",
    "  ?w foaf:name ?nome .\n",
    "  ?w dbo:abstract ?desc\n",
    "} limit 1000\n",
    "'''\n",
    "for i in analisador(exemplo):\n",
    "    print(i)\n"
   ]
  }
 ],
 "metadata": {
  "kernelspec": {
   "display_name": "jupyter312 (3.12.3)",
   "language": "python",
   "name": "python3"
  },
  "language_info": {
   "codemirror_mode": {
    "name": "ipython",
    "version": 3
   },
   "file_extension": ".py",
   "mimetype": "text/x-python",
   "name": "python",
   "nbconvert_exporter": "python",
   "pygments_lexer": "ipython3",
   "version": "3.12.3"
  }
 },
 "nbformat": 4,
 "nbformat_minor": 5
}
