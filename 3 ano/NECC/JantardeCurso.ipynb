{
 "cells": [
  {
   "cell_type": "code",
   "execution_count": 2,
   "id": "e20d8585",
   "metadata": {},
   "outputs": [
    {
     "name": "stdout",
     "output_type": "stream",
     "text": [
      "a111614: ✅ pago por Francisco Araujo\n",
      "a123456: ❌ não pago\n",
      "a112434: ✅ pago por Angelo Fernandes\n"
     ]
    }
   ],
   "source": [
    "import re\n",
    "lista = texto = \"\"\"\n",
    "Pagamentos:\n",
    "\n",
    "Francisco Araujo    a111614\n",
    "Gonçalo Faria       a104942\n",
    "Afonso Costa        a109929\n",
    "Angelo Fernandes    a112434\n",
    "\"\"\"\n",
    "\n",
    "def _parse_pagamentos(lista):\n",
    "    \"\"\"Devolve um dicionário {numero: nome} a partir da lista/texto.\"\"\"\n",
    "    if isinstance(lista, str):\n",
    "        linhas = lista.splitlines()\n",
    "    else:\n",
    "        linhas = list(lista)\n",
    "\n",
    "    pagos = {}\n",
    "    for ln in linhas:\n",
    "        m = re.search(r'(?P<nome>.+?)\\s+(?P<num>a\\d{6})\\b', ln, flags=re.IGNORECASE)\n",
    "        if m:\n",
    "            num  = m.group('num').lower()\n",
    "            nome = m.group('nome').strip()\n",
    "            pagos[num] = nome\n",
    "    return pagos\n",
    "\n",
    "def search(lista, numeros):\n",
    "    \"\"\"\n",
    "    lista  -> texto ou lista de linhas com 'Nome   a######'\n",
    "    numeros -> string, int ou lista (ex.: 'a111614' ou ['a111614','a000001'])\n",
    "    retorna dict {numero: nome_ou_None}\n",
    "    \"\"\"\n",
    "    pagos = _parse_pagamentos(lista)\n",
    "\n",
    "    # normaliza 'numeros' para lista\n",
    "    if isinstance(numeros, (str, int)):\n",
    "        numeros = [str(numeros)]\n",
    "\n",
    "    res = {}\n",
    "    for n in numeros:\n",
    "        n = str(n).strip().lower()\n",
    "        # aceitar '111614' ou 'a111614'\n",
    "        if not n.startswith('a'):\n",
    "            n = 'a' + re.sub(r'\\D', '', n)\n",
    "        res[n] = pagos.get(n)  # None se não pagou\n",
    "    return res\n",
    "\n",
    "def print_report(lista, numeros):\n",
    "    \"\"\"Helper para imprimir resultado bonito no terminal.\"\"\"\n",
    "    for n, nome in search(lista, numeros).items():\n",
    "        if nome:\n",
    "            print(f'{n}: ✅ pago por {nome}')\n",
    "        else:\n",
    "            print(f'{n}: ❌ não pago')\n",
    "\n",
    "print_report(lista, ['a111614', 'a123456','a112434'])\n"
   ]
  },
  {
   "cell_type": "markdown",
   "id": "d9fb3d6c",
   "metadata": {},
   "source": [
    "Pagamentos:\n",
    "\n",
    "Francisco Araujo a111614\n",
    "Gonçalo Faria    a104942\n",
    "Afonso Costa     a109929\n",
    "Angelo Fernandes a112434\n",
    "Duarte Costa     a113313\n",
    "Samir Mansour    a105856"
   ]
  },
  {
   "cell_type": "markdown",
   "id": "09a71b65",
   "metadata": {},
   "source": []
  }
 ],
 "metadata": {
  "kernelspec": {
   "display_name": "jupyter312",
   "language": "python",
   "name": "python3"
  },
  "language_info": {
   "codemirror_mode": {
    "name": "ipython",
    "version": 3
   },
   "file_extension": ".py",
   "mimetype": "text/x-python",
   "name": "python",
   "nbconvert_exporter": "python",
   "pygments_lexer": "ipython3",
   "version": "3.12.3"
  }
 },
 "nbformat": 4,
 "nbformat_minor": 5
}
